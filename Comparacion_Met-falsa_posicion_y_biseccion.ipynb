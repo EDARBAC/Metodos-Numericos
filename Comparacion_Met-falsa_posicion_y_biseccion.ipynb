{
 "cells": [
  {
   "cell_type": "code",
   "execution_count": 3,
   "metadata": {
    "collapsed": false
   },
   "outputs": [
    {
     "name": "stdout",
     "output_type": "stream",
     "text": [
      "14.780203831661057\n",
      "14.780203831661057\n"
     ]
    }
   ],
   "source": [
    "import math\n",
    "import matplotlib.pyplot as pl\n",
    "\n",
    "g,m,t,v= 9.8,68.1,10,40\n",
    "\n",
    "rX1, rX2=[],[]\n",
    "Et,Et1=[],[]\n",
    "I1,I2=[],[]\n",
    "\n",
    "vV=14.780204\n",
    "\n",
    "def f(c):\n",
    "    \n",
    "    y= (g*m/c)*(1-math.e**((-c/m)*t))-v\n",
    "    \n",
    "    return y\n",
    "\n",
    "def encontrarRaiz(Xl,Xu,ban):\n",
    "    \n",
    "    Xr=0.0\n",
    "    \n",
    "    c1,c2=0,0 \n",
    "    \n",
    "    while True :\n",
    "        \n",
    "        if(ban==True):\n",
    "            Xr=((Xl+Xu)/2)\n",
    "            rX1.append(Xr)\n",
    "            Et.append(abs((vV-Xr)/vV)*100)\n",
    "            I1.append(c1+1)\n",
    "            c1+=1\n",
    "            \n",
    "        else:\n",
    "            Xr=Xu-(f(Xu)*(Xl-Xu)/(f(Xl)-f(Xu)))\n",
    "            rX2.append(Xr)\n",
    "            Et1.append(abs((vV-Xr)/vV)*100)\n",
    "            I2.append(c2+1)\n",
    "            c2+=1\n",
    "        \n",
    "        if(f(Xl)*f(Xr))<0:\n",
    "            Xu=Xr\n",
    "        \n",
    "        else:\n",
    "            if(f(Xl)*f(Xr))>0:\n",
    "                Xl=Xr\n",
    "            else:\n",
    "                break\n",
    "     \n",
    "    return Xr\n",
    "\n",
    "def graf():\n",
    "     \n",
    "    print( encontrarRaiz(12,16,True))\n",
    "    print( encontrarRaiz(12,16,False))\n",
    "    \n",
    "    pl.ylabel('Error Relativo Porcentual Verdadero')\n",
    "    pl.xlabel('Iteraciones')\n",
    "   \n",
    "    pl.plot(I1,Et,color=\"green\",label='Et metodo de biseccion',linewidth=2.5, linestyle=\"-\")\n",
    "    pl.plot(I2,Et1,color=\"pink\",label='Et metodo de falsa posicion',linewidth=2.5, linestyle=\"-\")\n",
    "    pl.axis([-1,15,-1,6])\n",
    "    pl.grid(True)\n",
    "    pl.legend()\n",
    "    pl.show() \n",
    "    \n",
    "graf()\n",
    "    "
   ]
  },
  {
   "cell_type": "code",
   "execution_count": null,
   "metadata": {
    "collapsed": true
   },
   "outputs": [],
   "source": []
  }
 ],
 "metadata": {
  "kernelspec": {
   "display_name": "Python 3",
   "language": "python",
   "name": "python3"
  },
  "language_info": {
   "codemirror_mode": {
    "name": "ipython",
    "version": 3
   },
   "file_extension": ".py",
   "mimetype": "text/x-python",
   "name": "python",
   "nbconvert_exporter": "python",
   "pygments_lexer": "ipython3",
   "version": "3.5.1"
  }
 },
 "nbformat": 4,
 "nbformat_minor": 0
}
