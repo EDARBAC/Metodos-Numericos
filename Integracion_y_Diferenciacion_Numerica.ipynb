{
 "cells": [
  {
   "cell_type": "markdown",
   "metadata": {
    "collapsed": true
   },
   "source": [
    "### Taller IDN  \n",
    "  \n",
    "***1)*** Implemente la regla del trapecio de un segmento y múltiples segmentos (sub 21.1.2) de la Figura 21.9.  \n",
    "***2)*** Desarrolle los Ejemplos 21.1 y 21.2.  \n",
    "***3)*** Implemente la regla de Simpson ⅓ para un segmento y múltiples segmentos (sub 21.2.2) de las Figuras 21.13a y 21.13c.  \n",
    "***4)*** Desarrolle el Ejemplo 21.4 y 21.5.  \n",
    "***5)*** Implemente la regla de Simpson ⅜ para un segmento y múltiples segmentos de las Figuras 21.13b y 21.13d.  \n",
    "***6)*** Implementar las fórmulas de diferencias divididas finitas de las Figuras 23.1, 23.2 y 23.3.  \n",
    "***7)*** Desarrolle el Ejemplo 23.1.  \n",
    "\n",
    "\n"
   ]
  },
  {
   "cell_type": "code",
   "execution_count": 22,
   "metadata": {
    "collapsed": false
   },
   "outputs": [
    {
     "name": "stdout",
     "output_type": "stream",
     "text": [
      "Punto de inicio : 0\n",
      "Punto final : 0.8\n",
      "Integral con regla de el trapecio con un segmento : 0.1728000000000225\n"
     ]
    }
   ],
   "source": [
    "# 1.1 Regla de trapecio de un segmento\n",
    "a = float(input(\"Punto de inicio : \"))\n",
    "b = float(input(\"Punto final : \"))\n",
    "\n",
    "def f(x):\n",
    "    y=0.2 + 25*x - 200*x**2 + 675*x**3 - 900*x**4 + 400*x**5\n",
    "    return y\n",
    "\n",
    "def trap(h,f0,f1):\n",
    "    trap = h*(f0+f1)/2\n",
    "    return trap\n",
    "\n",
    "fo,f1,h=f(a),f(b),b-a\n",
    "print(\"Integral con regla de el trapecio con un segmento :\",trap(h,fo,f1))"
   ]
  },
  {
   "cell_type": "code",
   "execution_count": 28,
   "metadata": {
    "collapsed": false
   },
   "outputs": [
    {
     "name": "stdout",
     "output_type": "stream",
     "text": [
      "Numero de segmentos: 2\n",
      "X[0] =0\n",
      "X[1] =0.4\n",
      "X[2] =0.8\n",
      "Integral con regla de el trapecio para multiples segmentos :  1.0688000000000115\n"
     ]
    }
   ],
   "source": [
    "# 1.2 Regla de trapecio para multiples segmentos\n",
    "n,evlr,x=0,[],[]\n",
    "\n",
    "def ingresarSeg():\n",
    "    global n\n",
    "    n=int(input(\"Numero de segmentos: \"))\n",
    "    \n",
    "    for i in range(n+1):\n",
    "        x.append(float(input(\"X[\"+str(i)+\"] =\")))\n",
    "        \n",
    "def f(x):\n",
    "    y=0.2+25*x-200*x**2+675*x**3-900*x**4+400*x**5\n",
    "    return y\n",
    "\n",
    "def evaluar():\n",
    "    for i in range(n+1):\n",
    "        evlr.append(f(x[i]))\n",
    "        \n",
    "def trapm(h,n,f):\n",
    "    suma = f[0]\n",
    "    for i in range(n-1):\n",
    "        suma = suma + 2 * f[i+1]\n",
    "    suma = suma + f[n]\n",
    "    trapm = h * (suma/(2*n))\n",
    "    return trapm\n",
    "\n",
    "ingresarSeg()\n",
    "evaluar()\n",
    "h=(x[n]-x[0])\n",
    "print(\"Integral con regla de el trapecio para multiples segmentos : \",trapm(h,n,evlr))"
   ]
  },
  {
   "cell_type": "code",
   "execution_count": 29,
   "metadata": {
    "collapsed": false
   },
   "outputs": [
    {
     "name": "stdout",
     "output_type": "stream",
     "text": [
      "Integral con regla de trapecio de un segmento : 0.1728000000000225\n"
     ]
    }
   ],
   "source": [
    "# 2.1\n",
    "def f(x):\n",
    "    y=0.2 + 25*x - 200*x**2 + 675*x**3 - 900*x**4 + 400*x**5\n",
    "    return y\n",
    "\n",
    "def trap(h,f0,f1):\n",
    "    trap = h*(f0+f1)/2\n",
    "    return trap\n",
    "\n",
    "fo,f1,h=f(a),f(b),b-a\n",
    "\n",
    "print(\"Integral con regla de trapecio de un segmento :\",regla_trapecio(0,0.8))"
   ]
  },
  {
   "cell_type": "code",
   "execution_count": 30,
   "metadata": {
    "collapsed": false
   },
   "outputs": [
    {
     "name": "stdout",
     "output_type": "stream",
     "text": [
      "Integral con regla de trapecio de multiples segmentos:  1.0688000000000115\n"
     ]
    }
   ],
   "source": [
    "# 2.2\n",
    "x,evlr,n=[0,0.4,0.8],[],2\n",
    "\n",
    "def f(x):\n",
    "    y=0.2+25*x-200*x**2+675*x**3-900*x**4+400*x**5\n",
    "    return y\n",
    "\n",
    "def evaluar():\n",
    "    for i in range(n+1):\n",
    "        evlr.append(f(x[i]))\n",
    "        \n",
    "def trapm(h,n,f):\n",
    "    sum=f[0]\n",
    "    for i in range(n-1):\n",
    "        sum+=2*f[i+1]\n",
    "    sum+=f[n]\n",
    "    trpm=h*(sum/(2*n))\n",
    "    return trpm\n",
    "\n",
    "evaluar()\n",
    "h=(x[n]-x[0])\n",
    "print(\"Integral con regla de trapecio de multiples segmentos: \",trapm(h,n,evlr))\n"
   ]
  },
  {
   "cell_type": "code",
   "execution_count": 6,
   "metadata": {
    "collapsed": false
   },
   "outputs": [
    {
     "name": "stdout",
     "output_type": "stream",
     "text": [
      "Punto de inicio : 0\n",
      "Punto final : 0.8\n",
      "Integracion con regla de simpson 1/3 de un segmento  1.3674666666666744\n"
     ]
    }
   ],
   "source": [
    "# 3.1\n",
    "\n",
    "a=float(input(\"Punto de inicio : \"))\n",
    "b=float(input(\"Punto final : \"))\n",
    "\n",
    "\n",
    "def f(x):\n",
    "    y=0.2+25*x-200*x**2+675*x**3-900*x**4+400*x**5\n",
    "    return y\n",
    "\n",
    "def sim13(h,f0,f1,f2):\n",
    "    simp13 = h*(f0+4*f1+f2)/6\n",
    "    return simp13\n",
    "\n",
    "fo,f1,f2,h=f(a),f((a+b)/2),f(b),b-a\n",
    "print(\"Integracion con regla de simpson 1/3 de un segmento \",sim13(h,fo,f1,f2))\n",
    "\n"
   ]
  },
  {
   "cell_type": "code",
   "execution_count": 11,
   "metadata": {
    "collapsed": false
   },
   "outputs": [
    {
     "name": "stdout",
     "output_type": "stream",
     "text": [
      "Numero de segmentos: 5\n",
      "X[0] =0\n",
      "X[1] =0.16\n",
      "X[2] =0.32\n",
      "X[3] =0.48\n",
      "X[4] =0.64\n",
      "X[5] =0.8\n",
      "Integracion con regla de simpson 1/3 con multiples segmentos 1.165361152000005\n"
     ]
    }
   ],
   "source": [
    "# 3.2\n",
    "\n",
    "n,evlr,x=0,[],[]\n",
    "\n",
    "def ingresarSeg():\n",
    "    global n\n",
    "    n=int(input(\"Numero de segmentos: \"))\n",
    "    \n",
    "    for i in range(n+1):\n",
    "        x.append(float(input(\"X[\"+str(i)+\"] =\")))\n",
    "        \n",
    "def f(x):\n",
    "    y=0.2+25*x-200*x**2+675*x**3-900*x**4+400*x**5\n",
    "    return y\n",
    "\n",
    "def evaluar():\n",
    "    for i in range(n+1):\n",
    "        evlr.append(f(x[i]))\n",
    "        \n",
    "def simp13m(h,n,f):\n",
    "    suma = f[0]\n",
    "    i = 1\n",
    "    while (i<=n-1):\n",
    "        suma = suma + 4*f[i]       \n",
    "        i = i+2\n",
    "    j = 2\n",
    "    while (j<=n-2):\n",
    "        suma = suma + 2*f[j]  \n",
    "        j = j+2\n",
    "    suma = suma + f[n]\n",
    "    simp13 = h*(suma/(3*n))\n",
    "    return simp13\n",
    "    \n",
    "ingresarSeg()\n",
    "evaluar()\n",
    "h=x[n]-x[0]\n",
    "print(\"Integracion con regla de simpson 1/3 con multiples segmentos\",simp13m(h,n,evlr))\n"
   ]
  },
  {
   "cell_type": "code",
   "execution_count": 31,
   "metadata": {
    "collapsed": false
   },
   "outputs": [
    {
     "name": "stdout",
     "output_type": "stream",
     "text": [
      "Integracion con regla de simpson 1/3 de un segmento  1.3674666666666744\n"
     ]
    }
   ],
   "source": [
    "# 4.1\n",
    "a,b=0,0.8\n",
    "\n",
    "def f(x):\n",
    "    y=0.2+25*x-200*x**2+675*x**3-900*x**4+400*x**5\n",
    "    return y\n",
    "\n",
    "def sim13(h,f0,f1,f2):\n",
    "    simp13 = h*(f0+4*f1+f2)/6\n",
    "    return simp13\n",
    "\n",
    "fo,f1,f2,h=f(a),f((a+b)/2),f(b),b-a\n",
    "print(\"Integracion con regla de simpson 1/3 de un segmento \",sim13(h,fo,f1,f2))\n",
    "\n"
   ]
  },
  {
   "cell_type": "code",
   "execution_count": 32,
   "metadata": {
    "collapsed": false
   },
   "outputs": [
    {
     "name": "stdout",
     "output_type": "stream",
     "text": [
      "Integracion con regla de simpson 1/3 con multiples segmentos 1.6234666666666642\n"
     ]
    }
   ],
   "source": [
    "# 4.2\n",
    "n,evlr,x=4,[],[0,0.2,0.4,0.6,0.8]\n",
    "\n",
    "        \n",
    "def f(x):\n",
    "    y=0.2+25*x-200*x**2+675*x**3-900*x**4+400*x**5\n",
    "    return y\n",
    "\n",
    "def evaluar():\n",
    "    for i in range(n+1):\n",
    "        evlr.append(f(x[i]))\n",
    "        \n",
    "def simp13m(h,n,f):\n",
    "    suma = f[0]\n",
    "    i = 1\n",
    "    while (i<=n-1):\n",
    "        suma = suma + 4*f[i]       \n",
    "        i = i+2\n",
    "    j = 2\n",
    "    while (j<=n-2):\n",
    "        suma = suma + 2*f[j]  \n",
    "        j = j+2\n",
    "    suma = suma + f[n]\n",
    "    simp13 = h*(suma/(3*n))\n",
    "    return simp13\n",
    "    \n",
    "evaluar()\n",
    "h=x[n]-x[0]\n",
    "print(\"Integracion con regla de simpson 1/3 con multiples segmentos\",simp13m(h,n,evlr))\n"
   ]
  },
  {
   "cell_type": "code",
   "execution_count": 8,
   "metadata": {
    "collapsed": false
   },
   "outputs": [
    {
     "name": "stdout",
     "output_type": "stream",
     "text": [
      "Punto de inicio : 0\n",
      "Punto final : 0.8\n",
      "Integracion con regla de simpson 3/8 con un segmento 1.519170370370378\n"
     ]
    }
   ],
   "source": [
    "#5.1\n",
    "a=float(input(\"Punto de inicio : \"))\n",
    "b=float(input(\"Punto final : \"))\n",
    "\n",
    "def f(x):\n",
    "    y=0.2+25*x-200*x**2+675*x**3-900*x**4+400*x**5\n",
    "    return y\n",
    "\n",
    "def simp38(h,f0,f1,f2,f3):\n",
    "    simp13 = h*(f0+3*f1+3*f2+f3)/8\n",
    "    return simp13\n",
    "\n",
    "fo,f1,f2,f3,h=f(a),f((a+b)/3),f(((a+b)/3+b)/2),f(b),b-a\n",
    "print(\"Integracion con regla de simpson 3/8 con un segmento\",simp38(h,fo,f1,f2,f3))"
   ]
  },
  {
   "cell_type": "code",
   "execution_count": 33,
   "metadata": {
    "collapsed": false
   },
   "outputs": [
    {
     "name": "stdout",
     "output_type": "stream",
     "text": [
      "Punto de inicio : 0\n",
      "Punto final : 0.8\n",
      "Numero de segmentos : 5\n",
      "Integracion con regla de simpson 3/8 con multiples segmentos pares e impares:  1.165361152000005\n"
     ]
    }
   ],
   "source": [
    "#5.2\n",
    "a=float(input(\"Punto de inicio : \"))\n",
    "b=float(input(\"Punto final : \"))\n",
    "n=int(input(\"Numero de segmentos : \"))\n",
    "evlr=[]\n",
    "\n",
    "        \n",
    "def f(x):\n",
    "    y=0.2+25*x-200*x**2+675*x**3-900*x**4+400*x**5\n",
    "    return y\n",
    "\n",
    "def evaluar():\n",
    "    aux=0\n",
    "    for i in range(n+1):\n",
    "        evlr.append(f(aux))\n",
    "        aux+=0.16\n",
    "        \n",
    "def trap(h,f0,f1):\n",
    "    trap = h*(f0+f1)/2\n",
    "    return trap\n",
    "\n",
    "def simp38(h,f0,f1,f2,f3):\n",
    "    simp38 = h*(f0+3*f1+3*f2+f3)/8\n",
    "    return simp38\n",
    "\n",
    "def simp13m(h,n,f):\n",
    "    suma = f[0]\n",
    "    i = 1\n",
    "    while (i<=n-1):\n",
    "        suma = suma + 4*f[i]       \n",
    "        i = i+2\n",
    "    j = 2\n",
    "    while (j<=n-2):\n",
    "        suma = suma + 2*f[j]  \n",
    "        j = j+2\n",
    "    suma = suma + f[n]\n",
    "    simp13 = h*(suma/(3*n))\n",
    "    return simp13\n",
    "\n",
    "def simpInt(a,b,n,f):\n",
    "    suma = 0.0\n",
    "    h = (b-a)\n",
    "    if (n==1):\n",
    "        suma = trap(h,f[n-1],f[n])\n",
    "    else:\n",
    "        m=n\n",
    "        if (n%2==0 and n>1):\n",
    "            suma = suma + simp38(h,f[n-3],f[n-2],f[n-1],f[n])\n",
    "            m = n-3\n",
    "        if (m>1):\n",
    "            suma = suma + simp13m(h,m,f)\n",
    "    simpInt = suma\n",
    "    return simpInt\n",
    "\n",
    "evaluar()\n",
    "print(\"Integracion con regla de simpson 3/8 con multiples segmentos pares e impares: \",simpInt(a,b,n,evlr))"
   ]
  },
  {
   "cell_type": "code",
   "execution_count": 8,
   "metadata": {
    "collapsed": false
   },
   "outputs": [
    {
     "name": "stdout",
     "output_type": "stream",
     "text": [
      "Estimar derivada de : 0.5\n",
      "Tamaño de paso : 0.25\n",
      "Primera derivada:  -1.1546875\n",
      "Primera derivada de mayor exactitud:  -0.8593750000000009\n",
      "Segunda derivada:  -2.362499999999999\n",
      "Segunda derivada de mayor exactitud:  -1.6124999999999972\n",
      "Tercera derivada:  -3.000000000000007\n",
      "Tercera derivada de mayor exactitud:  -2.0999999999999943\n",
      "Cuarta derivada:  -2.4000000000000057\n",
      "Cuarta derivada de mayor exactitud:  -2.39999999999975\n"
     ]
    }
   ],
   "source": [
    "# 6.1 --23.1 Formulas de diferencias dividas finitas hacia adelante\n",
    "x=float(input(\"Estimar derivada de : \"))\n",
    "h=float(input(\"Tamaño de paso : \"))\n",
    "xin,xi=[],0\n",
    "\n",
    "def f(x):\n",
    "    y=-0.1*x**4-0.15*x**3-0.5*x**2-0.25*x+1.2\n",
    "    return y\n",
    "\n",
    "def evaluar():\n",
    "    global xi\n",
    "    xi=f(x)\n",
    "    for i in range(5):\n",
    "        xin.append(f(x+h*(i+1)))\n",
    "        \n",
    "def primeraDerivada():\n",
    "    dfo = (xin[0]-xi)/h\n",
    "    df1 = (-xin[1]+4*xin[0]-3*xi)/(2*h)\n",
    "    print (\"Primera derivada: \",dfo)\n",
    "    print (\"Primera derivada de mayor exactitud: \",df1)\n",
    "    \n",
    "def segundaDerivada():\n",
    "    d2fo = (xin[1]-2*xin[0]+xi)/h**2\n",
    "    d2f1 = (-xin[2]+4*xin[1]-5*xin[0]+2*xi)/h**2\n",
    "    print (\"Segunda derivada: \",d2fo)\n",
    "    print (\"Segunda derivada de mayor exactitud: \",d2f1)\n",
    "    \n",
    "def terceraDerivada():\n",
    "    d3fo = (xin[2]-3*xin[1]+3*xin[0]-xi)/h**3\n",
    "    d3f1 = (-3*xin[3]+14*xin[2]-24*xin[1]+18*xin[0]-5*xi)/(2*h**3)\n",
    "    print (\"Tercera derivada: \",d3fo)\n",
    "    print (\"Tercera derivada de mayor exactitud: \",d3f1)\n",
    "    \n",
    "def cuartaDerivada():\n",
    "    d4fo = (xin[3]-4*xin[2]+6*xin[1]-4*xin[0]+xi)/h**4\n",
    "    d4f1 = (-2*xin[4]+11*xin[3]-24*xin[2]+26*xin[1]-14*xin[0]+3*xi)/h**4\n",
    "    print (\"Cuarta derivada: \",d4fo)\n",
    "    print (\"Cuarta derivada de mayor exactitud: \",d4f1)\n",
    "    \n",
    "evaluar()\n",
    "primeraDerivada()\n",
    "segundaDerivada()\n",
    "terceraDerivada()\n",
    "cuartaDerivada()\n",
    "    "
   ]
  },
  {
   "cell_type": "code",
   "execution_count": 9,
   "metadata": {
    "collapsed": false
   },
   "outputs": [
    {
     "name": "stdout",
     "output_type": "stream",
     "text": [
      "Estimae derivada de : 0.5\n",
      "Tamaño de paso : 0.25\n",
      "Primera derivada:  -0.7140625000000003\n",
      "Primera derivada de mayor exactitud:  -0.8781250000000003\n",
      "Segunda derivada:  -1.3125000000000036\n",
      "Segunda derivada de mayor exactitud:  -1.6125000000000078\n",
      "Tercera derivada:  -1.2000000000000313\n",
      "Tercera derivada de mayor exactitud:  -2.100000000000122\n",
      "Cuarta derivada:  -2.4000000000002046\n",
      "Cuarta derivada de mayor exactitud:  -2.399999999999295\n"
     ]
    }
   ],
   "source": [
    "#6.2 ---23.2 Formulas de diferencias dividas finitas hacia atras\n",
    "x=float(input(\"Estimae derivada de : \"))\n",
    "h=float(input(\"Tamaño de paso : \"))\n",
    "xin,xi=[],0\n",
    "\n",
    "def f(x):\n",
    "    y=-0.1*x**4-0.15*x**3-0.5*x**2-0.25*x+1.2\n",
    "    return y\n",
    "\n",
    "def evaluar():\n",
    "    global xi\n",
    "    xi=f(x)\n",
    "    for i in range(5):\n",
    "        xin.append(f(x-h*(i+1)))\n",
    "        \n",
    "def primeraDerivada():\n",
    "    dfo = (xi-xin[0])/h\n",
    "    df1 = (3*xi-4*xin[0]+xin[1])/(2*h)\n",
    "    print (\"Primera derivada: \",dfo)\n",
    "    print (\"Primera derivada de mayor exactitud: \",df1)\n",
    "    \n",
    "def segundaDerivada():\n",
    "    d2fo = (xi-2*xin[0]+xin[1])/h**2\n",
    "    d2f1 = (2*xi-5*xin[0]+4*xin[1]-xin[2])/h**2\n",
    "    print (\"Segunda derivada: \",d2fo)\n",
    "    print (\"Segunda derivada de mayor exactitud: \",d2f1)\n",
    "    \n",
    "def terceraDerivada():\n",
    "    d3fo = (xi-3*xin[0]+3*xin[1]-xin[2])/h**3\n",
    "    d3f1 = (5*xi-18*xin[0]+24*xin[1]-14*xin[2]+3*xin[3])/(2*h**3)\n",
    "    print (\"Tercera derivada: \",d3fo)\n",
    "    print (\"Tercera derivada de mayor exactitud: \",d3f1)\n",
    "    \n",
    "def cuartaDerivada():\n",
    "    d4fo = (xi-4*xin[0]+6*xin[1]-4*xin[2]+xin[3])/h**4\n",
    "    d4f1 = (3*xi-14*xin[0]+26*xin[1]-24*xin[2]+11*xin[3]-2*xin[4])/h**4\n",
    "    print (\"Cuarta derivada: \",d4fo)\n",
    "    print (\"Cuarta derivada de mayor exactitud: \",d4f1)\n",
    "    \n",
    "evaluar()\n",
    "primeraDerivada()\n",
    "segundaDerivada()\n",
    "terceraDerivada()\n",
    "cuartaDerivada()"
   ]
  },
  {
   "cell_type": "code",
   "execution_count": 10,
   "metadata": {
    "collapsed": false
   },
   "outputs": [
    {
     "name": "stdout",
     "output_type": "stream",
     "text": [
      "Estimar derivadad de : 0.5\n",
      "Tamaño de paso : 0.25\n",
      "Primera derivada:  -0.9343750000000002\n",
      "Primera derivada de mayor exactitud:  -0.9125000000000002\n",
      "Segunda derivada:  -1.7624999999999993\n",
      "Segunda derivada de mayor exactitud:  -1.7499999999999962\n",
      "Tercera derivada:  -2.0999999999999943\n",
      "Tercera derivada de mayor exactitud:  -15.412499999999996\n",
      "Cuarta derivada:  -2.3999999999999204\n",
      "Cuarta derivada de mayor exactitud:  2149.5333333333333\n"
     ]
    }
   ],
   "source": [
    "#6.3 ---23.3 Formulas de diferencias dividas finitas centradas\n",
    "x=float(input(\"Estimar derivadad de : \"))\n",
    "h=float(input(\"Tamaño de paso : \"))\n",
    "xin,xi=[],0\n",
    "\n",
    "def f(x):\n",
    "    y=-0.1*x**4-0.15*x**3-0.5*x**2-0.25*x+1.2\n",
    "    return y\n",
    "\n",
    "def evaluar():\n",
    "    global xi\n",
    "    xi=f(x)\n",
    "    xin.append(f(x+h))\n",
    "    xin.append(f(x+2*h))\n",
    "    xin.append(f(x-h))\n",
    "    xin.append(f(x-2*h))\n",
    "    xin.append(f(x-3*h))\n",
    "        \n",
    "def primeraDerivada():\n",
    "    dfo = (xin[0]-xin[2])/(2*h)\n",
    "    df1 = (-xin[1]+8*xin[0]-8*xin[2]+xin[3])/(12*h)\n",
    "    print (\"Primera derivada: \",dfo)\n",
    "    print (\"Primera derivada de mayor exactitud: \",df1)\n",
    "    \n",
    "def segundaDerivada():\n",
    "    d2fo = (xin[0]-2*xi+xin[2])/h**2\n",
    "    d2f1 = (-xin[1]+16*xin[0]-30*xi+16*xin[2]-xin[3])/(12*h**2)\n",
    "    print (\"Segunda derivada: \",d2fo)\n",
    "    print (\"Segunda derivada de mayor exactitud: \",d2f1)\n",
    "    \n",
    "def terceraDerivada():\n",
    "    d3fo = (xin[1]-2*xin[0]+2*xin[2]-xin[3])/(2*h**3)\n",
    "    d3f1 = (-xin[4]+8*xin[1]-13*xin[0]+13*xin[2]-8*xin[3]+xin[4])/(8*h**3)\n",
    "    print (\"Tercera derivada: \",d3fo)\n",
    "    print (\"Tercera derivada de mayor exactitud: \",d3f1)\n",
    "    \n",
    "def cuartaDerivada():\n",
    "    d4fo = (xin[1]-4*xin[0]+6*xi-4*xin[2]+xin[3])/h**4\n",
    "    d4f1 = (-xin[4]+12*xin[1]+39*xin[0]+56*xi-39*xin[2]+12*xin[3]+xin[4])/(6*h**4)\n",
    "    print (\"Cuarta derivada: \",d4fo)\n",
    "    print (\"Cuarta derivada de mayor exactitud: \",d4f1)\n",
    "    \n",
    "evaluar()\n",
    "primeraDerivada()\n",
    "segundaDerivada()\n",
    "terceraDerivada()\n",
    "cuartaDerivada()"
   ]
  },
  {
   "cell_type": "code",
   "execution_count": 13,
   "metadata": {
    "collapsed": false
   },
   "outputs": [
    {
     "name": "stdout",
     "output_type": "stream",
     "text": [
      "Diferencias finitas hacia adelante: -0.8593750000000009\n",
      "Diferencias finitas hacia atras: -0.8781250000000003\n",
      "Diferencias finitas centradas: -0.9125000000000002\n"
     ]
    }
   ],
   "source": [
    "#7\n",
    "x,h=0.5,0.25\n",
    "\n",
    "def f(x):\n",
    "    y=-0.1*x**4-0.15*x**3-0.5*x**2-0.25*x+1.2\n",
    "    return y\n",
    "\n",
    "def evaluar():\n",
    "    global xi\n",
    "    xi=f(x)\n",
    "    xin.append(f(x+h))\n",
    "    xin.append(f(x+2*h))\n",
    "    xin.append(f(x-h))\n",
    "    xin.append(f(x-2*h))\n",
    "    \n",
    "def primeraDerivada():\n",
    "    df1 = (-xin[1]+4*xin[0]-3*xi)/(2*h)\n",
    "    print(\"Diferencias finitas hacia adelante:\",df1)\n",
    "    df1 = (3*xi-4*xin[2]+xin[3])/(2*h)\n",
    "    print(\"Diferencias finitas hacia atras:\",df1)\n",
    "    df1 = (-xin[1]+8*xin[0]-8*xin[2]+xin[3])/(12*h)\n",
    "    print(\"Diferencias finitas centradas:\",df1)\n",
    "    \n",
    "evaluar()\n",
    "primeraDerivada()\n"
   ]
  },
  {
   "cell_type": "code",
   "execution_count": null,
   "metadata": {
    "collapsed": true
   },
   "outputs": [],
   "source": []
  }
 ],
 "metadata": {
  "kernelspec": {
   "display_name": "Python 3",
   "language": "python",
   "name": "python3"
  },
  "language_info": {
   "codemirror_mode": {
    "name": "ipython",
    "version": 3
   },
   "file_extension": ".py",
   "mimetype": "text/x-python",
   "name": "python",
   "nbconvert_exporter": "python",
   "pygments_lexer": "ipython3",
   "version": "3.5.1"
  }
 },
 "nbformat": 4,
 "nbformat_minor": 0
}
