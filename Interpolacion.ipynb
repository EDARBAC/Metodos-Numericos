{
 "cells": [
  {
   "cell_type": "code",
   "execution_count": 9,
   "metadata": {
    "collapsed": false
   },
   "outputs": [
    {
     "name": "stdout",
     "output_type": "stream",
     "text": [
      "Ln de 2 con interpolacion lineal entre 1 y 6 : 0.358351893845611\n",
      "Error: 48.30074998557687\n",
      "Ln de 2 con interpolacion lineal entre 1 y 4 : 0.46209812037329684\n",
      "Error: 33.333333333333336\n"
     ]
    }
   ],
   "source": [
    "import math\n",
    "\n",
    "x=2\n",
    "\n",
    "def ln(x):\n",
    "    y=math.log(x)\n",
    "    return y\n",
    "\n",
    "def interpolacion_lineal(xo,x1):\n",
    "    \n",
    "    fo=ln(xo)+((ln(x1)-ln(xo))/(x1-xo))*(x-xo)\n",
    "    return fo\n",
    "\n",
    "def error(fo):\n",
    "    et=(math.log(2)-fo)/math.log(2)*100\n",
    "    return et\n",
    "    \n",
    "print(\"Ln de 2 con interpolacion lineal entre 1 y 6 :\", interpolacion_lineal(1,6))\n",
    "print(\"Error:\",error(interpolacion_lineal(1,6)))\n",
    "print(\"Ln de 2 con interpolacion lineal entre 1 y 4 :\", interpolacion_lineal(1,4))\n",
    "print(\"Error:\",error(interpolacion_lineal(1,4)))"
   ]
  },
  {
   "cell_type": "code",
   "execution_count": 4,
   "metadata": {
    "collapsed": false
   },
   "outputs": [
    {
     "name": "stdout",
     "output_type": "stream",
     "text": [
      "Ln de 2 por interpolacion cuadratica : 0.5658443469009827\n",
      "Error:  18.36591668108979\n"
     ]
    }
   ],
   "source": [
    "import math\n",
    "\n",
    "x,x0,x1,x2=2,1,4,6\n",
    "\n",
    "def ln(x):\n",
    "    y=math.log(x)\n",
    "    return y\n",
    "\n",
    "def interpolacion_cuadratica():\n",
    "    b0 = ln(xo)\n",
    "    b1 = (ln(x1)-ln(xo))/(x1-x0)\n",
    "    b2 = (((ln(x2)-ln(x1))/(x2-x1))-b1)/(x2-x0)\n",
    "    \n",
    "    fo = b0+b1*(x-x0)+b2*(x-x0)*(x-x1)\n",
    "    return fo\n",
    "\n",
    "def error(x):\n",
    "    Et = (math.log(2)-x)/math.log(2)*100\n",
    "    return Et\n",
    "\n",
    "print(\"Ln de 2 por interpolacion cuadratica :\",interpolacion_cuadratica())\n",
    "print(\"Error: \", error(interpolacion_cuadratica()))\n",
    "    "
   ]
  },
  {
   "cell_type": "code",
   "execution_count": null,
   "metadata": {
    "collapsed": true
   },
   "outputs": [],
   "source": []
  }
 ],
 "metadata": {
  "kernelspec": {
   "display_name": "Python 3",
   "language": "python",
   "name": "python3"
  },
  "language_info": {
   "codemirror_mode": {
    "name": "ipython",
    "version": 3
   },
   "file_extension": ".py",
   "mimetype": "text/x-python",
   "name": "python",
   "nbconvert_exporter": "python",
   "pygments_lexer": "ipython3",
   "version": "3.5.1"
  }
 },
 "nbformat": 4,
 "nbformat_minor": 0
}
