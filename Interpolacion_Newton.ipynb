{
 "cells": [
  {
   "cell_type": "code",
   "execution_count": 5,
   "metadata": {
    "collapsed": false
   },
   "outputs": [
    {
     "name": "stdout",
     "output_type": "stream",
     "text": [
      "Valor a calcular: 2\n",
      "Numero de datos:4\n",
      "X0 =1\n",
      "X1 =4\n",
      "X2 =6\n",
      "X3 =5\n",
      "f(2.0) 0.6287685789084135\n"
     ]
    }
   ],
   "source": [
    "import math\n",
    "\n",
    "n,xi=0,0\n",
    "x,y,fdd,ea=[],[],[],[]\n",
    "\n",
    "def f(x):\n",
    "    y=math.log(x)\n",
    "    return y\n",
    "\n",
    "def insertPuntos():\n",
    "    global n,xi\n",
    "    strg,i=\"\",0\n",
    "    xi=float(input(\"Valor a calcular: \"))\n",
    "    n=int(input(\"Numero de datos:\"))\n",
    "    \n",
    "    while i<n:\n",
    "        strg=\"X\"+str(i)+\" =\"\n",
    "        x.append(float(input(strg)))\n",
    "        fdd.append([0.0]*n)\n",
    "        i+=1\n",
    "       \n",
    "def evaluarDatos():\n",
    "    for i in range(0,n):\n",
    "        y.append(f(x[i]))\n",
    "        fdd[i][0]=y[i]\n",
    "      \n",
    "def interpolacionNewton():\n",
    "    \n",
    "    fo=0\n",
    "    yint=[]\n",
    "        \n",
    "    for j in range(1,n):\n",
    "        for i in range(0,n-j):\n",
    "            fdd[i][j]=(fdd[i+1][j-1]-fdd[i][j-1])/(x[i+j]-x[i])\n",
    "            \n",
    "    xterm = 1.0\n",
    "    yint.append(fdd[0][0])\n",
    "    \n",
    "    for order in range(1,n):\n",
    "        xterm = xterm * (xi - x[order-1])\n",
    "        fo = yint[order-1] + fdd[0][order] * xterm\n",
    "        ea.append(fo - yint[order-1])\n",
    "        yint.append(fo)\n",
    "        \n",
    "    return fo\n",
    "    \n",
    "insertPuntos()\n",
    "evaluarDatos()\n",
    "print(\"f(\"+str(xi)+\")\",interpolacionNewton())\n",
    "\n"
   ]
  },
  {
   "cell_type": "code",
   "execution_count": null,
   "metadata": {
    "collapsed": true
   },
   "outputs": [],
   "source": []
  }
 ],
 "metadata": {
  "kernelspec": {
   "display_name": "Python 3",
   "language": "python",
   "name": "python3"
  },
  "language_info": {
   "codemirror_mode": {
    "name": "ipython",
    "version": 3
   },
   "file_extension": ".py",
   "mimetype": "text/x-python",
   "name": "python",
   "nbconvert_exporter": "python",
   "pygments_lexer": "ipython3",
   "version": "3.5.1"
  }
 },
 "nbformat": 4,
 "nbformat_minor": 0
}
