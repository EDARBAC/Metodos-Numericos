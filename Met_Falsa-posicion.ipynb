{
 "cells": [
  {
   "cell_type": "code",
   "execution_count": 2,
   "metadata": {
    "collapsed": false
   },
   "outputs": [
    {
     "name": "stdout",
     "output_type": "stream",
     "text": [
      "  Iteraciones       Xr\n",
      "-------------  -------\n",
      "            1  14\n",
      "            2  15\n",
      "            3  14.5\n",
      "            4  14.75\n",
      "            5  14.875\n",
      "            6  14.8125\n",
      "            7  14.7812\n",
      "            8  14.7656\n",
      "            9  14.7734\n",
      "           10  14.7773\n",
      "           11  14.7793\n",
      "           12  14.7803\n",
      "           13  14.7798\n",
      "           14  14.78\n",
      "           15  14.7802\n",
      "           16  14.7802\n",
      "           17  14.7802\n",
      "           18  14.7802\n",
      "           19  14.7802\n",
      "           20  14.7802\n",
      "           21  14.7802\n",
      "           22  14.7802\n",
      "           23  14.7802\n",
      "           24  14.7802\n",
      "           25  14.7802\n",
      "           26  14.7802\n",
      "           27  14.7802\n",
      "           28  14.7802\n",
      "           29  14.7802\n",
      "           30  14.7802\n",
      "           31  14.7802\n",
      "           32  14.7802\n",
      "           33  14.7802\n",
      "           34  14.7802\n",
      "           35  14.7802\n",
      "           36  14.7802\n",
      "           37  14.7802\n",
      "           38  14.7802\n",
      "           39  14.7802\n",
      "           40  14.7802\n",
      "           41  14.7802\n",
      "           42  14.7802\n",
      "           43  14.7802\n",
      "           44  14.7802\n",
      "           45  14.7802\n",
      "           46  14.7802\n",
      "           47  14.7802\n",
      "           48  14.7802\n",
      "           49  14.7802\n",
      "           50  14.7802\n",
      "           51  14.7802\n"
     ]
    }
   ],
   "source": [
    "import math\n",
    "from tabulate import tabulate\n",
    "\n",
    "g,m,t,v= 9.8,68.1,10,40\n",
    "\n",
    "tabla=[]\n",
    "\n",
    "def f(c):\n",
    "    \n",
    "    y= (g*m/c)*(1-math.e**((-c/m)*t))-v\n",
    "    \n",
    "    return y\n",
    "\n",
    "def encontrarRaiz(Xl,Xu):\n",
    "    \n",
    "    Xr=0.0\n",
    "    \n",
    "    c1=0\n",
    "    \n",
    "    while True :\n",
    "        \n",
    "        \n",
    "        Xr=((Xl+Xu)/2)\n",
    "        tabla.append([c1+1,Xr])\n",
    "        c1+=1\n",
    "        \n",
    "        if(f(Xl)*f(Xr))<0:\n",
    "            Xu=Xr\n",
    "        \n",
    "        else:\n",
    "            if(f(Xl)*f(Xr))>0:\n",
    "                Xl=Xr\n",
    "            else:\n",
    "                break\n",
    "                \n",
    "    print(tabulate(tabla,headers=[\"Iteraciones\",\"Xr\"]))\n",
    "    \n",
    "\n",
    "encontrarRaiz(12, 16)\n",
    "     \n",
    "    "
   ]
  },
  {
   "cell_type": "code",
   "execution_count": null,
   "metadata": {
    "collapsed": true
   },
   "outputs": [],
   "source": []
  }
 ],
 "metadata": {
  "kernelspec": {
   "display_name": "Python 3",
   "language": "python",
   "name": "python3"
  },
  "language_info": {
   "codemirror_mode": {
    "name": "ipython",
    "version": 3
   },
   "file_extension": ".py",
   "mimetype": "text/x-python",
   "name": "python",
   "nbconvert_exporter": "python",
   "pygments_lexer": "ipython3",
   "version": "3.5.1"
  }
 },
 "nbformat": 4,
 "nbformat_minor": 0
}
