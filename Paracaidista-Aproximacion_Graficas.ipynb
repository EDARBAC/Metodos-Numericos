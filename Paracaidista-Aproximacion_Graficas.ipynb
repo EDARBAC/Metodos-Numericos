{
 "cells": [
  {
   "cell_type": "code",
   "execution_count": 1,
   "metadata": {
    "collapsed": false
   },
   "outputs": [
    {
     "name": "stdout",
     "output_type": "stream",
     "text": [
      "215\n",
      "215\n"
     ]
    }
   ],
   "source": [
    "import matplotlib.pyplot as pl\n",
    "import math\n",
    "\n",
    "g=9.8\n",
    "m=68.1\n",
    "c=12.5\n",
    "\n",
    "vl=[]\n",
    "tp=[]\n",
    "\n",
    "vll=[]\n",
    "tpp=[]\n",
    "\n",
    "def met_1():\n",
    "    for to in range(215):\n",
    "        tp.append(to)\n",
    "        v=((g*m)/c)*(1-math.exp(-(c/m)*to))\n",
    "        vl.append(v)\n",
    "        #print (v)\n",
    "    \n",
    "def met_2():\n",
    "    \n",
    "    print\n",
    "    vo=0\n",
    "    v=0\n",
    "    t=0\n",
    "    ti=2\n",
    "    \n",
    "    vll.append(0)\n",
    "    tpp.append(0)\n",
    "    \n",
    "    for i in range(214): \n",
    "            \n",
    "        tpp.append(ti)\n",
    "        v=vo+(g-(c/m)*vo)*(ti-t)\n",
    "        vll.append(v)\n",
    "        #print (v)\n",
    "        t=ti\n",
    "        ti=t+2\n",
    "        vo=v\n",
    "        \n",
    "    print(len(vll))\n",
    "    print(len(tpp))\n",
    "\n",
    "def graf():\n",
    "    \n",
    "    pl.ylabel('Velocidad (m/s)')\n",
    "    pl.xlabel('Tiempo (s)')\n",
    "   \n",
    "    pl.plot(tpp,vll,\"ro\")\n",
    "    pl.plot(tp,vl,color=\"green\",linewidth=2.5, linestyle=\"-\")\n",
    "    pl.grid(True)\n",
    "    pl.axis([0,50,0,60])\n",
    "    pl.show()  \n",
    "\n",
    "\n",
    "met_1()\n",
    "met_2()\n",
    "graf()"
   ]
  },
  {
   "cell_type": "code",
   "execution_count": null,
   "metadata": {
    "collapsed": false
   },
   "outputs": [],
   "source": []
  },
  {
   "cell_type": "code",
   "execution_count": null,
   "metadata": {
    "collapsed": true
   },
   "outputs": [],
   "source": []
  },
  {
   "cell_type": "code",
   "execution_count": null,
   "metadata": {
    "collapsed": true
   },
   "outputs": [],
   "source": []
  }
 ],
 "metadata": {
  "kernelspec": {
   "display_name": "Python 3",
   "language": "python",
   "name": "python3"
  },
  "language_info": {
   "codemirror_mode": {
    "name": "ipython",
    "version": 3
   },
   "file_extension": ".py",
   "mimetype": "text/x-python",
   "name": "python",
   "nbconvert_exporter": "python",
   "pygments_lexer": "ipython3",
   "version": "3.5.1"
  }
 },
 "nbformat": 4,
 "nbformat_minor": 0
}
