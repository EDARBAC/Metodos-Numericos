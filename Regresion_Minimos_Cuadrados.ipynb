{
 "cells": [
  {
   "cell_type": "code",
   "execution_count": 13,
   "metadata": {
    "collapsed": false
   },
   "outputs": [
    {
     "name": "stdout",
     "output_type": "stream",
     "text": [
      "a1 = 0.8392857142857143   ao = 0.07142857142857117\n"
     ]
    }
   ],
   "source": [
    "import math\n",
    "import matplotlib.pyplot as pl\n",
    "\n",
    "t,fo=[],[]\n",
    "x=[1,2,3,4,5,6,7]\n",
    "y=[0.5,2.5,2.0,4.0,3.5,6.0,5.5]\n",
    "n=len(x)\n",
    "\n",
    "def ajuste_lineal():\n",
    "    \n",
    "    sumx,sumy,xi_yi,xi_cua,a1,ao=0,0,0,0,0,0\n",
    "    \n",
    "    for i in range(n):\n",
    "        sumx+=x[i]\n",
    "        sumy+=y[i]\n",
    "        xi_cua+=x[i]**2\n",
    "        xi_yi+=x[i]*y[i]\n",
    "    \n",
    "    med_x=sumx/n\n",
    "    med_y=sumy/n\n",
    "    \n",
    "    a1=(n*xi_yi-(sumx*sumy))/(n*xi_cua-sumx**2)\n",
    "    ao=med_y-a1*med_x\n",
    "    \n",
    "    print(\"a1 =\",a1,\" \",\"ao =\",ao)\n",
    "    \n",
    "    for i in range(n):\n",
    "        fo.append(ao+a1*i)\n",
    "        t.append(i)\n",
    "    \n",
    "def graf():\n",
    "        \n",
    "    pl.plot(t,fo)\n",
    "    pl.plot(x,y,'ro')\n",
    "    pl.axis([0,7,0,7])\n",
    "    pl.grid()\n",
    "    pl.show()\n",
    "\n",
    "ajuste_lineal()\n",
    "graf()\n"
   ]
  },
  {
   "cell_type": "code",
   "execution_count": null,
   "metadata": {
    "collapsed": true
   },
   "outputs": [],
   "source": []
  }
 ],
 "metadata": {
  "kernelspec": {
   "display_name": "Python 3",
   "language": "python",
   "name": "python3"
  },
  "language_info": {
   "codemirror_mode": {
    "name": "ipython",
    "version": 3
   },
   "file_extension": ".py",
   "mimetype": "text/x-python",
   "name": "python",
   "nbconvert_exporter": "python",
   "pygments_lexer": "ipython3",
   "version": "3.5.1"
  }
 },
 "nbformat": 4,
 "nbformat_minor": 0
}
