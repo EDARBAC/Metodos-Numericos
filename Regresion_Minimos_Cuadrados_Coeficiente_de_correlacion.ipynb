{
 "cells": [
  {
   "cell_type": "code",
   "execution_count": 25,
   "metadata": {
    "collapsed": false
   },
   "outputs": [
    {
     "name": "stdout",
     "output_type": "stream",
     "text": [
      "Coeficiente de correlacion velocidad medida y velocidad calculada en el modelo b : 0.9978913543278676\n",
      "Coeficiente de correlacion velocidad medida y velocidad calculada en el modelo c : 0.9950358612800618\n"
     ]
    }
   ],
   "source": [
    "import math\n",
    "import matplotlib.pyplot as pl\n",
    "import matplotlib.pyplot as plt\n",
    "\n",
    "r=0\n",
    "\n",
    "t=[]\n",
    "med=[10,16.3,23,27.5,31,35.6,39,41.5,42.9,45,46,45.5,46,49,50]\n",
    "modb=[8.953,16.405,22.607,27.769,32.065,35.641,38.617,41.095,43.156,44.872,46.301,47.490,48.479,49.303,49.998]\n",
    "modc=[11.24,18.57,23.729,27.556,30.509,32.855,34.766,36.351,37.687,38.829,39.816,40.678,41.437,42.11,42.712]\n",
    "\n",
    "def regresion(x,y,n):\n",
    "    \n",
    "    global r,t\n",
    "    \n",
    "    sumx,sumy,sumxy,sumx2,sumy2,st,sr,fo,t=0,0,0,0,0,0,0,[],[]\n",
    "    \n",
    "    for i in range(n):\n",
    "        sumx+=x[i]\n",
    "        sumy+=y[i]\n",
    "        sumxy+=x[i]*y[i]\n",
    "        sumx2+=x[i]**2\n",
    "        sumy2+=y[i]**2\n",
    "    \n",
    "    xm=sumx/n\n",
    "    ym=sumy/n\n",
    "    \n",
    "    a1=(n*sumxy - sumx*sumy)/(n*sumx2 - (sumx**2))\n",
    "    a0 = ym - a1*xm\n",
    "    \n",
    "    for i in range(n):\n",
    "        st+=(y[i]-ym)**2\n",
    "        sr+=(y[i]-a1*x[i]-a0)**2\n",
    "    \n",
    "    r=math.sqrt((st-sr)/st)\n",
    "    \n",
    "    for i in range(60):\n",
    "        fo.append(a0+a1*i)\n",
    "        t.append(i) \n",
    "    \n",
    "    return fo\n",
    "\n",
    "def graficar():\n",
    "    \n",
    "    pl.ylabel('Velocidad calculada b')\n",
    "    pl.xlabel('Velocidad medida')\n",
    "    pl.plot(med, modb,'ro')\n",
    "    pl.plot(t,y)\n",
    "    pl.axis([0, 60, 0, 60])\n",
    "    pl.grid(True)\n",
    "    pl.show()\n",
    "    \n",
    "    plt.ylabel('Velocidad calculada c')\n",
    "    plt.xlabel('Velocidad medida')\n",
    "    plt.plot(med, modc,'ro')\n",
    "    plt.plot(t,y1)\n",
    "    plt.axis([0, 60, 0, 60])\n",
    "    plt.grid(True)\n",
    "    plt.show()\n",
    "         \n",
    "y=regresion(med,modb,15)\n",
    "print(\"Coeficiente de correlacion velocidad medida y velocidad calculada en el modelo b :\", r)\n",
    "y1=regresion(med,modc,15)\n",
    "print(\"Coeficiente de correlacion velocidad medida y velocidad calculada en el modelo c :\", r)\n",
    "\n",
    "graficar()"
   ]
  },
  {
   "cell_type": "code",
   "execution_count": null,
   "metadata": {
    "collapsed": true
   },
   "outputs": [],
   "source": []
  }
 ],
 "metadata": {
  "kernelspec": {
   "display_name": "Python 3",
   "language": "python",
   "name": "python3"
  },
  "language_info": {
   "codemirror_mode": {
    "name": "ipython",
    "version": 3
   },
   "file_extension": ".py",
   "mimetype": "text/x-python",
   "name": "python",
   "nbconvert_exporter": "python",
   "pygments_lexer": "ipython3",
   "version": "3.5.1"
  }
 },
 "nbformat": 4,
 "nbformat_minor": 0
}
