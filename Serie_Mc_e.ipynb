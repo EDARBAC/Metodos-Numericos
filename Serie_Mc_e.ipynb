{
 "cells": [
  {
   "cell_type": "code",
   "execution_count": 1,
   "metadata": {
    "collapsed": false
   },
   "outputs": [
    {
     "name": "stdout",
     "output_type": "stream",
     "text": [
      "|   Valor Aproximado |   Error Verdadero |   Error relativo % verdadero |   Error relativo % aproximado |\n",
      "|-------------------:|------------------:|-----------------------------:|------------------------------:|\n",
      "|        0.648721    |           1       |                 64.8721      |                  33.3333      |\n",
      "|        0.148721    |           1.5     |                  9.91475     |                   7.69231     |\n",
      "|        0.0237213   |           1.625   |                  1.45977     |                   1.26582     |\n",
      "|        0.00288794  |           1.64583 |                  0.17547     |                   0.157978    |\n",
      "|        0.000283771 |           1.64844 |                  0.0172145   |                   0.0157953   |\n",
      "|        2.33543e-05 |           1.6487  |                  0.00141653  |                   0.00131626  |\n",
      "|        1.65294e-06 |           1.64872 |                  0.000100256 |                   9.40183e-05 |\n",
      "|        1.02845e-07 |           1.64872 |                  6.23788e-06 |                   5.87614e-06 |\n",
      "|        5.96404e-09 |           1.64872 |                  3.61737e-07 |                   3.26452e-07 |\n",
      "|        5.81749e-10 |           1.64872 |                  3.52849e-08 |                   1.63226e-08 |\n",
      "|        3.12635e-10 |           1.64872 |                  1.89622e-08 |                   7.41935e-10 |\n",
      "|        3.00402e-10 |           1.64872 |                  1.82203e-08 |                   3.09083e-11 |\n",
      "|        2.99893e-10 |           1.64872 |                  1.81894e-08 |                   1.18516e-12 |\n",
      "|        2.99873e-10 |           1.64872 |                  1.81882e-08 |                   4.04031e-14 |\n",
      "|        2.99872e-10 |           1.64872 |                  1.81882e-08 |                   0           |\n",
      "|        2.99872e-10 |           1.64872 |                  1.81882e-08 |                   0           |\n",
      "|        2.99872e-10 |           1.64872 |                  1.81882e-08 |                   0           |\n",
      "|        2.99872e-10 |           1.64872 |                  1.81882e-08 |                   0           |\n",
      "|        2.99872e-10 |           1.64872 |                  1.81882e-08 |                   0           |\n"
     ]
    },
    {
     "data": {
      "text/plain": [
       "1.6487212707001278"
      ]
     },
     "execution_count": 1,
     "metadata": {},
     "output_type": "execute_result"
    }
   ],
   "source": [
    "import math \n",
    "from tabulate import tabulate\n",
    "\n",
    "\n",
    "e=1.648721271\n",
    "\n",
    "eA=[]\n",
    "eL=[]\n",
    "eV=[]\n",
    "\n",
    "vApx=[]\n",
    "\n",
    "tabla=[]\n",
    "\n",
    "def factorial(n):\n",
    "    \n",
    "    fac=1\n",
    "    c1=1\n",
    "    \n",
    "    while c1<=n:\n",
    "        fac=c1*fac\n",
    "        c1+=1\n",
    "       \n",
    "    return fac\n",
    "        \n",
    "def f(n,x):\n",
    "    \n",
    "    c1=0\n",
    "    f=0\n",
    "    \n",
    "    while c1<n:\n",
    "        \n",
    "        f+=((x**c1)/factorial(c1))\n",
    "        vApx.append(f)\n",
    "        c1+=1\n",
    "        \n",
    "    errores()\n",
    "    return f\n",
    "\n",
    "def errores():\n",
    "    \n",
    "    ctd=0\n",
    "    ctd1=1\n",
    "    \n",
    "    while ctd1<len(vApx):\n",
    "        eV.append(e-vApx[ctd])\n",
    "        eL.append((eV[ctd]/vApx[ctd])*100)\n",
    "        eA.append(((vApx[ctd1]-vApx[ctd])/vApx[ctd1])*100)\n",
    "        tabla.append([eV[ctd],vApx[ctd],eL[ctd],eA[ctd]])\n",
    "        ctd+=1\n",
    "        ctd1+=1\n",
    "\n",
    "    print (tabulate(tabla, headers=[\"Valor Aproximado\",\"Error Verdadero\",\"Error relativo % verdadero\",\"Error relativo % aproximado\"],tablefmt=\"pipe\"))\n",
    "\n",
    "\n",
    "f(20,0.5)\n",
    "\n"
   ]
  },
  {
   "cell_type": "code",
   "execution_count": null,
   "metadata": {
    "collapsed": true
   },
   "outputs": [],
   "source": []
  }
 ],
 "metadata": {
  "kernelspec": {
   "display_name": "Python 3",
   "language": "python",
   "name": "python3"
  },
  "language_info": {
   "codemirror_mode": {
    "name": "ipython",
    "version": 3
   },
   "file_extension": ".py",
   "mimetype": "text/x-python",
   "name": "python",
   "nbconvert_exporter": "python",
   "pygments_lexer": "ipython3",
   "version": "3.5.1"
  }
 },
 "nbformat": 4,
 "nbformat_minor": 0
}
