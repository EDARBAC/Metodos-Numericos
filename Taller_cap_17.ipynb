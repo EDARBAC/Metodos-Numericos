{
 "cells": [
  {
   "cell_type": "markdown",
   "metadata": {},
   "source": [
    "## **Taller** \n",
    "\n",
    "17.1) Dados los datos    \n",
    "  \n",
    "8.8 9.5 9.8 9.4 10.0    \n",
    "9.4 10.1 9.2 11.3 9.4    \n",
    "10.0 10.4 7.9 10.4 9.8    \n",
    "9.8 9.5 8.9 8.8 10.6    \n",
    "10.1 9.5 9.6 10.2 8.9    \n",
    "  \n",
    "Determine:    \n",
    "         \n",
    "a) la media.    \n",
    "b) la desviación estándar.    \n",
    "c) la varianza.      \n",
    "d) el coeficiente de variación.      \n",
    "e) el intervalo de confianza del 95% para la media.    \n"
   ]
  },
  {
   "cell_type": "code",
   "execution_count": 1,
   "metadata": {
    "collapsed": false
   },
   "outputs": [
    {
     "name": "stdout",
     "output_type": "stream",
     "text": [
      "  Media    Varianza    Desviacion estandar    coeficiente de variacion  I. de confianza del 95%\n",
      "-------  ----------  ---------------------  --------------------------  -------------------------------------\n",
      "  9.652    0.494267               0.703041                   0.0728389  (9.376407922707008,9.927592077292994)\n"
     ]
    }
   ],
   "source": [
    "import math\n",
    "from tabulate import tabulate\n",
    "\n",
    "dat=[8.8,9.5,9.8,9.4,10.0,9.4,10.1,9.2,11.3,9.4,10.0,10.4,7.9,10.4,9.8,9.8,9.5,8.9,8.8,10.6,10.1,9.5,9.6,10.2,8.9]\n",
    "\n",
    "def calc():\n",
    "    \n",
    "    sumx,sumxmed2=0,0\n",
    "    n=len(dat)\n",
    "    \n",
    "    for i in range(n):\n",
    "        sumx+=dat[i]\n",
    "        \n",
    "    med=sumx/n\n",
    "    \n",
    "    for i in range(n):\n",
    "        sumxmed2+=(dat[i]-med)**2\n",
    "    \n",
    "    va=sumxmed2/(n-1)\n",
    "    dvE=math.sqrt(va)\n",
    "    c=dvE/med\n",
    "    \n",
    "    xinf=med-(1.96*(dvE/math.sqrt(n)))\n",
    "    xsup=med+(1.96*(dvE/math.sqrt(n)))\n",
    "    \n",
    "    tab=[med,va,dvE,c,(\"(\"+str(xinf)+\",\"+str(xsup)+\")\")]\n",
    "    \n",
    "    print(tabulate([tab],[\"Media\",\"Varianza\",\"Desviacion estandar\",\"coeficiente de variacion\",\"I. de confianza del 95%\"],\n",
    "                   tablefmt=\"simple\"))\n",
    "    \n",
    "calc()\n",
    "\n",
    "    \n",
    "        "
   ]
  },
  {
   "cell_type": "markdown",
   "metadata": {},
   "source": [
    "17.2) Construya un histograma de los datos del problema 17.1.  \n",
    "      Use un rango de 7.5 a 11.5 con intervalos de 0.5.    "
   ]
  },
  {
   "cell_type": "code",
   "execution_count": 21,
   "metadata": {
    "collapsed": false,
    "scrolled": true
   },
   "outputs": [
    {
     "data": {
      "image/png": "[encoded data removed]",
      "text/plain": [
       "<matplotlib.figure.Figure at 0x1219ce36cc0>"
      ]
     },
     "metadata": {},
     "output_type": "display_data"
    }
   ],
   "source": [
    "import matplotlib.pyplot as pl\n",
    "from matplotlib.pylab import hist,show\n",
    "%matplotlib inline\n",
    "dat=[8.8,9.5,9.8,9.4,10.0,9.4,10.1,9.2,11.3,9.4,10.0,10.4,7.9,10.4,9.8,9.8,9.5,8.9,8.8,10.6,10.1,9.5,9.6,10.2,8.9]\n",
    "\n",
    "hist(dat)\n",
    "pl.title('Histograma')\n",
    "show()"
   ]
  },
  {
   "cell_type": "markdown",
   "metadata": {},
   "source": [
    "17.3 Dados los datos  \n",
    "  \n",
    "28.65 26.55 26.65 27.65 27.35 28.35 26.85  \n",
    "28.65 29.65 27.85 27.05 28.25 28.35 26.75  \n",
    "27.65 28.45 28.65 28.45 31.65 26.35 27.75  \n",
    "29.25 27.65 28.65 27.65 28.55 27.55 27.25  \n",
    "\n",
    "Determine:  \n",
    "a) la media, b) la desviación estándar, c) la varianza,    \n",
    "d) el coeficiente de variación, y e) el intervalo de confianza del 90% para la media.     \n",
    "f ) Construya un histograma. Use un rango de 26 a 32 con incrementos de 0.5.     \n",
    "g) Si se supone que la distribución es normal y que la estimación de la desviación estándar  \n",
    "   es válida, calcule el rango (es decir, los valores inferior y superior) que agrupa al 68% de los datos.   \n",
    "   Determine si esta es una estimación válida para los datos del problema.  "
   ]
  },
  {
   "cell_type": "code",
   "execution_count": 22,
   "metadata": {
    "collapsed": false
   },
   "outputs": [
    {
     "name": "stdout",
     "output_type": "stream",
     "text": [
      "  Media    Desv. Estandar    Varianza    Coef. Variacion\n",
      "-------  ----------------  ----------  -----------------\n",
      "28.0036            1.0973     1.20406          0.0391842 \n",
      "\n",
      "Intervalo de confianza de el 90% : ( 27.66244834896552 , 28.344694508177326 )  \n",
      "\n"
     ]
    },
    {
     "data": {
      "image/png": "[encoded data removed]",
      "text/plain": [
       "<matplotlib.figure.Figure at 0x179c7cb37f0>"
      ]
     },
     "metadata": {},
     "output_type": "display_data"
    },
    {
     "name": "stdout",
     "output_type": "stream",
     "text": [
      "Valores inferior y superior que agrupa al 68%s de los datos : ( 26.90627436461798 , 29.100868492524867 )\n"
     ]
    }
   ],
   "source": [
    "import math \n",
    "import matplotlib.pyplot as pl\n",
    "from tabulate import tabulate \n",
    "from matplotlib.pylab import hist,show\n",
    "%matplotlib inline\n",
    "\n",
    "dat=[28.65,26.55,26.65,27.65,27.35,28.35,26.85,28.65,29.65,27.85,27.05,28.25,28.35,26.75,\n",
    "     27.65,28.45,28.65,28.45,31.65,26.35,27.75,29.25,27.65,28.65,27.65,28.55,27.55,27.25]\n",
    "\n",
    "def media(x):\n",
    "    \n",
    "    sumx,n=0,len(x)\n",
    "    \n",
    "    for i in range(n):\n",
    "        sumx+=x[i]\n",
    "    \n",
    "    med=sumx/n\n",
    "    return med\n",
    "\n",
    "def varianza(x):\n",
    "    \n",
    "    summedx,med,n=0,media(x),len(x)\n",
    "    \n",
    "    for i in range(n):\n",
    "        summedx+=(med-x[i])**2\n",
    "        \n",
    "    vz=summedx/(n-1)\n",
    "    return vz\n",
    "    \n",
    "def desviacion_estandar(x):\n",
    "    \n",
    "    de=math.sqrt(varianza(x))\n",
    "    return de;\n",
    "\n",
    "def coe_variacion(x):\n",
    "    return (desviacion_estandar(x)/media(x))\n",
    "\n",
    "\n",
    "print(tabulate([[media(dat),desviacion_estandar(dat),varianza(dat),coe_variacion(dat)]],\n",
    "               [\"Media\",\"Desv. Estandar\",\"Varianza\", \"Coef. Variacion\"],tablefmt=\"simple\"),\"\\n\")\n",
    "\n",
    "print(\"Intervalo de confianza de el 90% : (\",media(dat)-(1.645*(desviacion_estandar(dat)/math.sqrt(len(dat)))),\",\",\n",
    "     media(dat)+(1.645*(desviacion_estandar(dat)/math.sqrt(len(dat)))),\") \",\"\\n\")\n",
    "\n",
    "hist(dat, bins=12)\n",
    "pl.title('Histograma')\n",
    "show()\n",
    "\n",
    "print(\"Valores inferior y superior que agrupa al 68%s de los datos : (\",media(dat)-desviacion_estandar(dat),\",\",\n",
    "     media(dat)+desviacion_estandar(dat),\")\")\n",
    "\n",
    "\n",
    "        \n"
   ]
  },
  {
   "cell_type": "markdown",
   "metadata": {
    "collapsed": true
   },
   "source": [
    "17.4) Utilice la regresión por mínimos cuadrados para ajustar una  línea recta a  \n",
    "  \n",
    "      x 0 2 4 6 9 11 12 15 17 19  \n",
    "      y 5 6 7 6 9 8 7 10 12 12  \n",
    "        \n",
    "      Además de la pendiente y la intersección, calcule el error estándar  \n",
    "      de la estimación y el coeficiente de correlación. Haga una  \n",
    "      gráfica de los datos y la línea de regresión. Después repita el  \n",
    "      problema, pero ahora efectúe la regresión de x versus y, es decir,  \n",
    "      intercambie las variables. Interprete sus resultados.  "
   ]
  },
  {
   "cell_type": "code",
   "execution_count": 12,
   "metadata": {
    "collapsed": false
   },
   "outputs": [
    {
     "name": "stdout",
     "output_type": "stream",
     "text": [
      "Coeficiente de correlacion y vs x : 0.9147672848789046\n",
      "Error estándar de la estimación y vs x : 1.065009699900041\n",
      "Coeficiente de correlacion x vs y : 0.9147672848789046\n",
      "Error estándar de la estimación x vs y : 2.7640257107155146\n",
      "El coeficiente de correlacion es el mismo para ambos casos (Xiyi=yixi) en la formula       en el primer caso hay mas puntos cercanos a la recta y por lo tanto el error es menor\n"
     ]
    },
    {
     "data": {
      "image/png": "[encoded data removed]",
      "text/plain": [
       "<matplotlib.figure.Figure at 0x1b148a0a6a0>"
      ]
     },
     "metadata": {},
     "output_type": "display_data"
    },
    {
     "data": {
      "image/png": "[encoded data removed]",
      "text/plain": [
       "<matplotlib.figure.Figure at 0x1b1480c4fd0>"
      ]
     },
     "metadata": {},
     "output_type": "display_data"
    }
   ],
   "source": [
    "import math\n",
    "import matplotlib.pyplot as pl\n",
    "import matplotlib.pyplot as plt\n",
    "%matplotlib inline\n",
    "\n",
    "xx = [0,2,4,6,9,11,12,15,17,19]\n",
    "yy = [5,6,7,6,9,8,7,10,12,12]\n",
    "r,n,er=0,0,len(x)\n",
    "\n",
    "\n",
    "def regresion(x,y,n):\n",
    "    \n",
    "    global r,t,er\n",
    "    \n",
    "    sumx,sumy,sumxy,sumx2,sumy2,st,sr,fo,t,er=0,0,0,0,0,0,0,[],[],0\n",
    "    \n",
    "    for i in range(n):\n",
    "        sumx+=x[i]\n",
    "        sumy+=y[i]\n",
    "        sumxy+=x[i]*y[i]\n",
    "        sumx2+=x[i]**2\n",
    "        sumy2+=y[i]**2\n",
    "    \n",
    "    xm=sumx/n\n",
    "    ym=sumy/n\n",
    "    \n",
    "    a1=(n*sumxy - sumx*sumy)/(n*sumx2 - (sumx**2))\n",
    "    a0 = ym - a1*xm\n",
    "    \n",
    "    for i in range(n):\n",
    "        st+=(y[i]-ym)**2\n",
    "        sr+=(y[i]-a1*x[i]-a0)**2\n",
    "    \n",
    "    r=math.sqrt((st-sr)/st)\n",
    "    er=math.sqrt(sr/(n-2))\n",
    "    \n",
    "    for i in range(60):\n",
    "        fo.append(a0+a1*i)\n",
    "        t.append(i) \n",
    "    \n",
    "    return fo\n",
    "\n",
    "def graficar():\n",
    "    \n",
    "    pl.title('Y vs X')\n",
    "    pl.ylabel('y')\n",
    "    pl.xlabel('x')\n",
    "    pl.plot(x, y,'ro')\n",
    "    pl.plot(t,yo)\n",
    "    pl.axis([-5, 20, 0, 20])\n",
    "    pl.grid(True)\n",
    "    pl.show()\n",
    "    \n",
    "    pl.title('X vs Y')\n",
    "    plt.ylabel('X')\n",
    "    plt.xlabel('Y')\n",
    "    plt.plot(y, x,'ro')\n",
    "    plt.plot(t,y1)\n",
    "    plt.axis([0, 20, -5, 20])\n",
    "    plt.grid(True)\n",
    "    plt.show()\n",
    "    \n",
    "yo=regresion(xx,yy,10)\n",
    "print(\"Coeficiente de correlacion y vs x :\", r)\n",
    "print(\"Error estándar de la estimación y vs x :\",er)\n",
    "y1=regresion(yy,xx,10)\n",
    "print(\"Coeficiente de correlacion x vs y :\", r)\n",
    "print(\"Error estándar de la estimación x vs y :\",er)\n",
    "print(\"El coeficiente de correlacion es el mismo para ambos casos (Xiyi=yixi) en la formula \\\n",
    "      en el primer caso hay mas puntos cercanos a la recta y por lo tanto el error es menor\")\n",
    "\n",
    "graficar()"
   ]
  },
  {
   "cell_type": "markdown",
   "metadata": {},
   "source": [
    "El coeficiente de correlacion es el mismo para ambos casos (Xi*yi=yi*xi) en la formula, en el primer caso hay mas puntos   cercanos a la recta y por lo tanto el error es menor  "
   ]
  },
  {
   "cell_type": "markdown",
   "metadata": {},
   "source": [
    "17.5) Use la regresión por mínimos cuadrados para ajustar una línea recta a  \n",
    "  \n",
    "x 6 7 11 15 17 21 23 29 29 37 39  \n",
    "y 29 21 29 14 21 15 7 7 13 0 3  \n",
    "\n",
    "Además de la pendiente y la intersección, calcule el error estándar    \n",
    "de la estimación y el coeficiente de correlación. Haga una gráfica  \n",
    "de los datos y la línea de regresión. ¿Si otra persona hiciera    \n",
    "una medición adicional de x = 10, y = 10, usted pensaría,  \n",
    "con base en una evaluación visual y el error estándar, que la  \n",
    "medición era válida o inválida? Justifique su conclusión.  "
   ]
  },
  {
   "cell_type": "code",
   "execution_count": 10,
   "metadata": {
    "collapsed": false
   },
   "outputs": [
    {
     "name": "stdout",
     "output_type": "stream",
     "text": [
      "Coeficiente de correlacion y vs x : 0.9014889487651576\n",
      "Error estándar de la estimación y vs x : 4.476305950113288\n"
     ]
    },
    {
     "data": {
      "image/png": "[encoded data removed]",
      "text/plain": [
       "<matplotlib.figure.Figure at 0x253ff32d780>"
      ]
     },
     "metadata": {},
     "output_type": "display_data"
    },
    {
     "name": "stdout",
     "output_type": "stream",
     "text": [
      "Coeficiente de correlacion y vs x : 0.815879159879304\n",
      "Error estándar de la estimación y vs x : 5.726786638030528\n"
     ]
    },
    {
     "data": {
      "image/png": "[encoded data removed]",
      "text/plain": [
       "<matplotlib.figure.Figure at 0x253ff31f400>"
      ]
     },
     "metadata": {},
     "output_type": "display_data"
    },
    {
     "name": "stdout",
     "output_type": "stream",
     "text": [
      "Al introducir el los valores x=10 y y=10 el error aumenta este debido a que dichos valores son atipicos con base en los datos y el error de estimacion esta ultima medicion seria erronea \n"
     ]
    }
   ],
   "source": [
    "import math\n",
    "import matplotlib.pyplot as pl\n",
    "%matplotlib inline\n",
    "\n",
    "xx = [6,7,11,15,17,21,23,29,29,37,39]\n",
    "yy = [29,21,29,14,21,15,7,7,13,0,3]\n",
    "r,er=0,0\n",
    "\n",
    "\n",
    "def regresion(x,y,n):\n",
    "    \n",
    "    global r,t,er\n",
    "    \n",
    "    sumx,sumy,sumxy,sumx2,sumy2,st,sr,fo,t,er=0,0,0,0,0,0,0,[],[],0\n",
    "    \n",
    "    for i in range(n):\n",
    "        sumx+=x[i]\n",
    "        sumy+=y[i]\n",
    "        sumxy+=x[i]*y[i]\n",
    "        sumx2+=x[i]**2\n",
    "        sumy2+=y[i]**2\n",
    "    \n",
    "    xm=sumx/n\n",
    "    ym=sumy/n\n",
    "    \n",
    "    a1=(n*sumxy - sumx*sumy)/(n*sumx2 - (sumx**2))\n",
    "    a0 = ym - a1*xm\n",
    "    \n",
    "    for i in range(n):\n",
    "        st+=(y[i]-ym)**2\n",
    "        sr+=(y[i]-a1*x[i]-a0)**2\n",
    "    \n",
    "    r=math.sqrt((st-sr)/st)\n",
    "    er=math.sqrt(sr/(n-2))\n",
    "    \n",
    "    for i in range(60):\n",
    "        fo.append(a0+a1*i)\n",
    "        t.append(i) \n",
    "    \n",
    "    return fo\n",
    "\n",
    "def graficar(x,y):\n",
    "    \n",
    "    pl.title('Y vs X')\n",
    "    pl.ylabel('y')\n",
    "    pl.xlabel('x')\n",
    "    pl.plot(x, y,'ro')\n",
    "    pl.plot(t,yo)\n",
    "    pl.axis([-5, 50, -5, 50])\n",
    "    pl.grid(True)\n",
    "    pl.show()\n",
    "    \n",
    "    \n",
    "    \n",
    "yo=regresion(xx,yy,11)\n",
    "print(\"Coeficiente de correlacion y vs x :\", r)\n",
    "print(\"Error estándar de la estimación y vs x :\",er)\n",
    "graficar(xx,yy)\n",
    "\n",
    "xx.append(10)\n",
    "yy.append(10)\n",
    "y1=regresion(xx,yy,12)\n",
    "print(\"Coeficiente de correlacion y vs x :\", r)\n",
    "print(\"Error estándar de la estimación y vs x :\",er)\n",
    "graficar(xx,yy)\n",
    "\n",
    "print(\"Al introducir los valores x=10 y y=10 el error aumenta este debido a que dichos valores \\\n",
    "son atipicos con base en los datos y el error de estimacion esta ultima medicion seria erronea \")"
   ]
  },
  {
   "cell_type": "markdown",
   "metadata": {},
   "source": [
    "17.6) Con el mismo enfoque que se empleó para obtener las  \n",
    "ecuaciones (17.15) y (17.16), obtenga el ajuste por mínimos  \n",
    "cuadrados del modelo siguiente:  \n",
    "  \n",
    "y = a1x + e  \n",
    "\n",
    "Es decir, determine la pendiente que resulta en el ajuste por  \n",
    "mínimos cuadrados para una línea recta con intersección en el  \n",
    "origen. Ajuste los datos siguientes con dicho modelo e ilustre  \n",
    "el resultado con una gráfica.  \n",
    "\n",
    "x 2 4 6 7 10 11 14 17 20  \n",
    "y 1 2 5 2 8 7 6 9 12  "
   ]
  },
  {
   "cell_type": "code",
   "execution_count": 2,
   "metadata": {
    "collapsed": false
   },
   "outputs": [
    {
     "name": "stdout",
     "output_type": "stream",
     "text": [
      "Coeficiente de correlacion x vs y : 0.9171288517287067\n",
      "Error estándar: 1.5624090064086216\n"
     ]
    },
    {
     "data": {
      "image/png": "[encoded data removed]",
      "text/plain": [
       "<matplotlib.figure.Figure at 0x1e097b32c88>"
      ]
     },
     "metadata": {},
     "output_type": "display_data"
    }
   ],
   "source": [
    "import math\n",
    "import matplotlib.pyplot as pl\n",
    "%matplotlib inline\n",
    "\n",
    "xx = [2,4,6,7,10,11,14,17,20]\n",
    "yy = [1,2,5,2,8,7,6,9,12]\n",
    "r,er,t=0,0,[]\n",
    "\n",
    "\n",
    "def regresion(x,y,n):\n",
    "    \n",
    "    global r,t,er\n",
    "    \n",
    "    sumx,sumy,sumxy,sumx2,sumy2,st,sr,fo,t,er=0,0,0,0,0,0,0,[],[],0\n",
    "    \n",
    "    for i in range(n):\n",
    "        sumx+=x[i]\n",
    "        sumy+=y[i]\n",
    "        sumxy+=x[i]*y[i]\n",
    "        sumx2+=x[i]**2\n",
    "        sumy2+=y[i]**2\n",
    "    \n",
    "    xm=sumx/n\n",
    "    ym=sumy/n\n",
    "    \n",
    "    a1=(n*sumxy - sumx*sumy)/(n*sumx2 - (sumx**2))\n",
    "    a0 = ym - a1*xm\n",
    "    \n",
    "    for i in range(n):\n",
    "        st+=(y[i]-ym)**2\n",
    "        sr+=(y[i]-a1*x[i]-a0)**2\n",
    "    \n",
    "    r=math.sqrt((st-sr)/st)\n",
    "    er=math.sqrt(sr/(n-2))\n",
    "    \n",
    "    for i in range(60):\n",
    "        fo.append(a0+a1*i)\n",
    "        t.append(i) \n",
    "    \n",
    "    return fo\n",
    "\n",
    "def graficar(x,y):\n",
    "    \n",
    "    pl.title('X vs Y')\n",
    "    pl.ylabel('y')\n",
    "    pl.xlabel('x')\n",
    "    pl.plot(x, y,'ro')\n",
    "    pl.plot(t,yo)\n",
    "    pl.axis([-5, 30, -5, 20])\n",
    "    pl.grid(True)\n",
    "    pl.show()\n",
    "    \n",
    "    \n",
    "    \n",
    "yo=regresion(xx,yy,9)\n",
    "print(\"Coeficiente de correlacion x vs y :\", r)\n",
    "print(\"Error estándar:\",er)\n",
    "graficar(xx,yy)"
   ]
  },
  {
   "cell_type": "code",
   "execution_count": null,
   "metadata": {
    "collapsed": true
   },
   "outputs": [],
   "source": []
  }
 ],
 "metadata": {
  "kernelspec": {
   "display_name": "Python 3",
   "language": "python",
   "name": "python3"
  },
  "language_info": {
   "codemirror_mode": {
    "name": "ipython",
    "version": 3
   },
   "file_extension": ".py",
   "mimetype": "text/x-python",
   "name": "python",
   "nbconvert_exporter": "python",
   "pygments_lexer": "ipython3",
   "version": "3.5.1"
  }
 },
 "nbformat": 4,
 "nbformat_minor": 0
}
