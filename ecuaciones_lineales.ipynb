{
 "cells": [
  {
   "cell_type": "code",
   "execution_count": 14,
   "metadata": {
    "collapsed": false
   },
   "outputs": [
    {
     "name": "stdout",
     "output_type": "stream",
     "text": [
      "xo= 3.0\n",
      "x1= 4.0\n"
     ]
    }
   ],
   "source": [
    "import math \n",
    "import matplotlib.pyplot as pl\n",
    "import numpy as np\n",
    "\n",
    "\n",
    "def f(x,band):\n",
    "    \n",
    "    xo=0\n",
    "    \n",
    "    if(band==True):\n",
    "        \n",
    "        xo=(18-3*x)/2\n",
    "        return xo                       \n",
    "        \n",
    "    else:\n",
    "        \n",
    "        xo=(2+x)/2\n",
    "        return xo\n",
    "        \n",
    "def graf():\n",
    "    \n",
    "    n=0\n",
    "    xi=0\n",
    "    \n",
    "    fo=[]\n",
    "    f1=[]\n",
    "    \n",
    "    xo=[]\n",
    "    \n",
    "    while(n<100):\n",
    "        \n",
    "        if(f(xi,True)==f(xi,False)):\n",
    "        \n",
    "            print(\"xo=\",f(xi,True))\n",
    "            print(\"x1=\",((2*f(xi,True)) -2))\n",
    "            \n",
    "            pl.plot((2*f(xi,True))-2,f(xi,True),\"ro\",color=\"black\",linewidth=20)\n",
    "            \n",
    "            \n",
    "        fo.append(f(xi,True))\n",
    "        f1.append(f(xi,False))\n",
    "        xo.append(xi)\n",
    "        \n",
    "        xi+=1\n",
    "        n+=1\n",
    "    \n",
    "    pl.ylabel('f(X)')\n",
    "    pl.xlabel('X')\n",
    "    \n",
    "    pl.plot(xo,fo,color=\"green\",label=\"Primera Ecuacion\",linewidth=2.5, linestyle=\"-\")\n",
    "    pl.plot(xo,f1,color=\"pink\",label=\"Segunda Ecuacion\",linewidth=2.5, linestyle=\"-\")\n",
    "   \n",
    "    pl.axis([0,6,0,6])\n",
    "    pl.grid(True)\n",
    "    pl.show()\n",
    "\n",
    "graf()    \n",
    "    \n",
    "    "
   ]
  },
  {
   "cell_type": "code",
   "execution_count": null,
   "metadata": {
    "collapsed": true
   },
   "outputs": [],
   "source": []
  },
  {
   "cell_type": "code",
   "execution_count": null,
   "metadata": {
    "collapsed": true
   },
   "outputs": [],
   "source": []
  }
 ],
 "metadata": {
  "kernelspec": {
   "display_name": "Python 3",
   "language": "python",
   "name": "python3"
  },
  "language_info": {
   "codemirror_mode": {
    "name": "ipython",
    "version": 3
   },
   "file_extension": ".py",
   "mimetype": "text/x-python",
   "name": "python",
   "nbconvert_exporter": "python",
   "pygments_lexer": "ipython3",
   "version": "3.5.1"
  }
 },
 "nbformat": 4,
 "nbformat_minor": 0
}
