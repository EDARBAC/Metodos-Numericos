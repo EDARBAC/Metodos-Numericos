{
 "cells": [
  {
   "cell_type": "code",
   "execution_count": 26,
   "metadata": {
    "collapsed": false
   },
   "outputs": [
    {
     "name": "stdout",
     "output_type": "stream",
     "text": [
      "\u001b[0m\n",
      "  Iteracion     Xl      Xu       Xr  Ea                         Et\n",
      "-----------  -----  ------  -------  -------------------  --------\n",
      "          1  12     16      14                            5.27868\n",
      "          2  14     16      15       6.666666666666667    1.48712\n",
      "          3  14     15      14.5     3.4482758620689653   1.89578\n",
      "          4  14.5   15      14.75    1.694915254237288    0.204327\n",
      "          5  14.75  15      14.875   0.8403361344537815   0.641399\n",
      "          6  14.75  14.875  14.8125  0.42194092827004215  0.218536\n",
      "\n"
     ]
    },
    {
     "data": {
      "image/png": "[encoded data removed]",
      "text/plain": [
       "<matplotlib.figure.Figure at 0x255cbeea0b8>"
      ]
     },
     "metadata": {},
     "output_type": "display_data"
    }
   ],
   "source": [
    "import math\n",
    "import matplotlib.pyplot as pl\n",
    "from tabulate import tabulate\n",
    "%matplotlib inline\n",
    "\n",
    "Es=0.5\n",
    "Et=[]\n",
    "Ea=[]\n",
    "\n",
    "fo=[]\n",
    "xo=[]\n",
    "\n",
    "Xro=[]\n",
    "\n",
    "tabla=[]\n",
    "\n",
    "vVo=14.7802\n",
    "Xr_my=0\n",
    "\n",
    "def f(c):\n",
    "    \n",
    "    y=(667.38*(1-math.exp(-0.146843*c))/c)-40\n",
    "    \n",
    "    return y\n",
    "\n",
    "def met_biseccion(Xl,Xu):\n",
    "    Eap=1\n",
    "    Xr=0.0\n",
    "    \n",
    "    vAct=0\n",
    "    vAnt=0\n",
    "    \n",
    "    c1=0\n",
    "    i=0\n",
    "    \n",
    "    global tabla\n",
    "    \n",
    "    while Eap>Es:\n",
    "    \n",
    "        Xr=((Xl+Xu)/2)\n",
    "        Ett=abs((vVo-Xr)/vVo)*100\n",
    "        Et.append(Ett)\n",
    "        Xro.append(Xr)\n",
    "        \n",
    "        if(c1>0):\n",
    "            Eap=abs((((Xro[c1]-Xro[c1-1])/Xro[c1])*100))\n",
    "            Ea.append(abs((((Xro[c1]-Xro[c1-1])/Xro[c1])*100)))\n",
    "            tabla.append([c1+1,Xl,Xu,Xr,Ea[c1-1],Ett])\n",
    "        else:\n",
    "            tabla.append([c1+1,Xl,Xu,Xr,\"\",Ett])\n",
    "            \n",
    "            \n",
    "            \n",
    "        if(f(Xl)*f(Xr))<0:\n",
    "            Xu=Xr\n",
    "        \n",
    "        else:\n",
    "            if(f(Xl)*f(Xr))>0:\n",
    "                Xl=Xr\n",
    "            else:\n",
    "                break\n",
    "                \n",
    "        c1+=1\n",
    "    \n",
    "    return Xr\n",
    "   \n",
    "\n",
    "def graf():\n",
    "    \n",
    "    print(\"\")\n",
    "    x=1\n",
    "    \n",
    "    while x<40:\n",
    "        fo.append(f(x))\n",
    "        xo.append(x)\n",
    "        x+=1\n",
    "    \n",
    "    pl.ylabel('f(X)')\n",
    "    pl.xlabel('X')\n",
    "   \n",
    "    pl.plot(xo,fo,color=\"green\",linewidth=2.5, linestyle=\"-\")\n",
    "    pl.plot(14.7802,0,'ro',color=\"red\")\n",
    "    pl.axis([14,17,-5,10])\n",
    "    pl.grid(True)\n",
    "    pl.show()\n",
    "\n",
    "met_biseccion(12,16)\n",
    "\n",
    "print(chr(27)+\"[0m\")\n",
    "headers=[\"Iteracion\",\"Xl\",\"Xu\",\"Xr\",\"Ea\",\"Et\",\"Raices\"]\n",
    "\n",
    "print(tabulate(tabla,headers))\n",
    "graf()\n",
    "    \n",
    "\n"
   ]
  },
  {
   "cell_type": "code",
   "execution_count": null,
   "metadata": {
    "collapsed": true
   },
   "outputs": [],
   "source": []
  }
 ],
 "metadata": {
  "kernelspec": {
   "display_name": "Python 3",
   "language": "python",
   "name": "python3"
  },
  "language_info": {
   "codemirror_mode": {
    "name": "ipython",
    "version": 3
   },
   "file_extension": ".py",
   "mimetype": "text/x-python",
   "name": "python",
   "nbconvert_exporter": "python",
   "pygments_lexer": "ipython3",
   "version": "3.5.1"
  }
 },
 "nbformat": 4,
 "nbformat_minor": 0
}
