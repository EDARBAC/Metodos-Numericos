{
 "cells": [
  {
   "cell_type": "code",
   "execution_count": 5,
   "metadata": {
    "collapsed": false
   },
   "outputs": [
    {
     "name": "stdout",
     "output_type": "stream",
     "text": [
      "|   Funcion Aprx |   Funcion Anltc |   Funcion Apx Fctrz |   Funcion Anltc Fctrz |      Et a) |      Et b) |\n",
      "|---------------:|----------------:|--------------------:|----------------------:|-----------:|-----------:|\n",
      "|          0.743 |        0.743053 |               0.743 |              0.743053 | 0.00713324 | 0.00713324 |\n"
     ]
    }
   ],
   "source": [
    "import math\n",
    "from tabulate import tabulate\n",
    "\n",
    "\n",
    "def cifras_Sig(num):\n",
    "    \n",
    "    cad=str(num)\n",
    "    \n",
    "    if(cad.find(\".\")):\n",
    "        return float(cad[:cad.find(\".\")+4])\n",
    "    \n",
    "    else:\n",
    "        return num\n",
    "    \n",
    "    \n",
    "    \n",
    "\n",
    "def f(x):\n",
    "    \n",
    "    tabla=[]\n",
    "    \n",
    "    #funcion aproximada\n",
    "    Ya= cifras_Sig(x**3)-cifras_Sig(7*x**2)+cifras_Sig(8*x)+0.35\n",
    "    #funcion analitica\n",
    "    Yo= (x**3)-7*(x**2) + (8*x) + 0.35\n",
    "    \n",
    "    #error relativo porcentual Aproximado\n",
    "    Et=((Yo-Ya)/Ya)*100\n",
    "    \n",
    "    \n",
    "    #funcion aproximada factorizada\n",
    "    Xa= cifras_Sig((cifras_Sig(cifras_Sig(x-7)*x) + 8)*x) + 0.35\n",
    "    #funcion analitica factorizada\n",
    "    Xo= ((x-7)*x + 8)*x + 0.35\n",
    "    \n",
    "    #error relativo porcentual Aproximado\n",
    "    Et1=((Yo-Ya)/Ya)*100\n",
    "    \n",
    "    tabla.append([Ya,Yo,Xa,Xo,Et,Et1])\n",
    "\n",
    "\n",
    "    print(tabulate(tabla,headers=[\"Funcion Aprx\",\"Funcion Anltc\",\"Funcion Apx Fctrz\", \"Funcion Anltc Fctrz\",\"Et a)\",\"Et b)\"],tablefmt=\"pipe\"))\n",
    "\n",
    "f(1.37)"
   ]
  },
  {
   "cell_type": "code",
   "execution_count": null,
   "metadata": {
    "collapsed": true
   },
   "outputs": [],
   "source": []
  }
 ],
 "metadata": {
  "kernelspec": {
   "display_name": "Python 3",
   "language": "python",
   "name": "python3"
  },
  "language_info": {
   "codemirror_mode": {
    "name": "ipython",
    "version": 3
   },
   "file_extension": ".py",
   "mimetype": "text/x-python",
   "name": "python",
   "nbconvert_exporter": "python",
   "pygments_lexer": "ipython3",
   "version": "3.5.1"
  }
 },
 "nbformat": 4,
 "nbformat_minor": 0
}
