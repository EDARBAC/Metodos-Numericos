{
 "cells": [
  {
   "cell_type": "code",
   "execution_count": 14,
   "metadata": {
    "collapsed": false
   },
   "outputs": [
    {
     "name": "stdout",
     "output_type": "stream",
     "text": [
      "      Termino    Error aproximado\n",
      "--  ---------  ------------------\n",
      "1)   1               79.8989\n",
      "2)   0.555868         5.58402\n",
      "3)   0.588743         0.16561\n",
      "4)   0.58777          0.00262682\n",
      "5)   0.587785         2.59256e-05\n",
      "6)   0.587785         1.74461e-07\n"
     ]
    }
   ],
   "source": [
    "import math\n",
    "from tabulate import tabulate\n",
    "\n",
    "vV=math.cos(0.3*math.pi)\n",
    "Es=(0.5*(10**-6))\n",
    "\n",
    "tabla=[]\n",
    "\n",
    "fo=[]\n",
    "Eapx=[]\n",
    "\n",
    "y=0\n",
    "c1=0\n",
    "c2=0\n",
    "\n",
    "\n",
    "\n",
    "def f(x):\n",
    "    \n",
    "    global y\n",
    "    global c1\n",
    "    global c2\n",
    "\n",
    "    if ((c1)%2==0):\n",
    "        y+=((x**(c2))/math.factorial(c2))   \n",
    "    else:     \n",
    "        y-=((x**(c2))/math.factorial(c2))\n",
    "        \n",
    "    fo.append(y)\n",
    "            \n",
    "    c1+=1\n",
    "    c2+=2\n",
    "\n",
    "    return y\n",
    "\n",
    "def contar_terminos(x):\n",
    "      \n",
    "    c1=0\n",
    "    Eap=1.0\n",
    "    \n",
    "    vAnt=f(x)\n",
    "\n",
    "    while (Eap>Es):\n",
    "        \n",
    "        vAct=f(x)\n",
    "        \n",
    "        Eap=(abs(vAct-vAnt)/vAct*100)\n",
    "        Eapx.append(Eap)\n",
    "       \n",
    "        tabla.append([str((c1+1))+\")\",fo[c1],Eapx[c1]])\n",
    "        \n",
    "        vAnt=vAct\n",
    "        c1+=1\n",
    "        \n",
    "    print(tabulate(tabla,headers=[\"Termino\",\"Error aproximado\"]))\n",
    "        \n",
    "contar_terminos(0.3*math.pi)\n",
    "        \n",
    "    \n",
    "    "
   ]
  },
  {
   "cell_type": "code",
   "execution_count": null,
   "metadata": {
    "collapsed": true
   },
   "outputs": [],
   "source": []
  }
 ],
 "metadata": {
  "kernelspec": {
   "display_name": "Python 3",
   "language": "python",
   "name": "python3"
  },
  "language_info": {
   "codemirror_mode": {
    "name": "ipython",
    "version": 3
   },
   "file_extension": ".py",
   "mimetype": "text/x-python",
   "name": "python",
   "nbconvert_exporter": "python",
   "pygments_lexer": "ipython3",
   "version": "3.5.1"
  }
 },
 "nbformat": 4,
 "nbformat_minor": 0
}
