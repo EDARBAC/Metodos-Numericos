{
 "cells": [
  {
   "cell_type": "code",
   "execution_count": 7,
   "metadata": {
    "collapsed": false
   },
   "outputs": [
    {
     "name": "stdout",
     "output_type": "stream",
     "text": [
      "  Orden       f(n)    f(pi/3)             Et\n",
      "-------  ---------  ---------  -------------\n",
      "      0   0.707107   0.707107  -41.4214\n",
      "      1  -0.707107   0.521987   -4.39733\n",
      "      2  -0.707107   0.497754    0.449102\n",
      "      3   0.707107   0.499869    0.0261706\n",
      "      4   0.707107   0.500008   -0.00151016\n",
      "      5  -0.707107   0.5        -6.08001e-05\n",
      "      6  -0.707107   0.5         2.44027e-06\n"
     ]
    }
   ],
   "source": [
    "import math\n",
    "from tabulate import tabulate\n",
    "\n",
    "fo=[]\n",
    "f=[]\n",
    "\n",
    "Et=[]\n",
    "\n",
    "tabla=[]\n",
    "\n",
    "def cos_ser_tay(h):\n",
    "    \n",
    "    x=math.pi/4\n",
    "    y=0\n",
    "    cont=0\n",
    "    \n",
    "    fo.append(math.cos(x))\n",
    "    fo.append(-math.sin(x))\n",
    "    fo.append(-math.cos(x))\n",
    "    fo.append(math.sin(x))\n",
    "    fo.append(math.cos(x))\n",
    "    fo.append(-math.sin(x))\n",
    "    fo.append(-math.cos(x))\n",
    "    \n",
    "    while cont<len(fo):\n",
    "\n",
    "        y+=(fo[cont]/math.factorial(cont))*(h**cont)\n",
    "        f.append(y)\n",
    "        Et.append(((0.5-y)/0.5)*100)\n",
    "        tabla.append([cont, fo[cont],f[cont],Et[cont]])\n",
    "        \n",
    "        cont+=1\n",
    "        \n",
    "    print(tabulate(tabla,headers=[\"Orden\",\"f(n)\",\"f(pi/3)\",\"Et\"]))\n",
    "    \n",
    "cos_ser_tay(math.pi/12)"
   ]
  },
  {
   "cell_type": "code",
   "execution_count": null,
   "metadata": {
    "collapsed": true
   },
   "outputs": [],
   "source": []
  }
 ],
 "metadata": {
  "kernelspec": {
   "display_name": "Python 3",
   "language": "python",
   "name": "python3"
  },
  "language_info": {
   "codemirror_mode": {
    "name": "ipython",
    "version": 3
   },
   "file_extension": ".py",
   "mimetype": "text/x-python",
   "name": "python",
   "nbconvert_exporter": "python",
   "pygments_lexer": "ipython3",
   "version": "3.5.1"
  }
 },
 "nbformat": 4,
 "nbformat_minor": 0
}
