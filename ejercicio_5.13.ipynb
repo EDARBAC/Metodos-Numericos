{
 "cells": [
  {
   "cell_type": "code",
   "execution_count": 32,
   "metadata": {
    "collapsed": false
   },
   "outputs": [
    {
     "name": "stdout",
     "output_type": "stream",
     "text": [
      "\n",
      "\n",
      "\n",
      "  Iteracion    Xl       Xu       Xr  Ea\n",
      "-----------  ----  -------  -------  ---------------------\n",
      "          1    50  60       59.8513\n",
      "          2    50  59.8513  59.8417  0.01605727104892004\n",
      "          3    50  59.8417  59.8411  0.0010372766655660259\n",
      "          4    50  59.8411  59.841   6.700396676564731e-05\n"
     ]
    }
   ],
   "source": [
    "import math\n",
    "import matplotlib.pyplot as pl\n",
    "from tabulate import tabulate\n",
    "\n",
    "g=9.8\n",
    "c=15\n",
    "v=35\n",
    "t=9\n",
    "\n",
    "fo=[]\n",
    "xo=[]\n",
    " \n",
    "def f(m):\n",
    "    \n",
    "    y=0\n",
    "    \n",
    "    if(m!=0):\n",
    "        y=((g*m)/c)*(1-math.exp(-(c/m)*t)) -v\n",
    "    \n",
    "    return y\n",
    "\n",
    "def met_falsa_posicion(Xl,Xu):\n",
    "    \n",
    "    Ea=[]\n",
    "    tabla=[]\n",
    "    \n",
    "    Es=0\n",
    "    Eapx=1\n",
    "    \n",
    "    Xro=[]\n",
    "    \n",
    "    Xr=0.0\n",
    "    \n",
    "    c1=0\n",
    "    \n",
    "    while Eapx>Es:\n",
    "            \n",
    "        Es=0.001\n",
    "        Xr=Xu-(f(Xu)*(Xl-Xu)/(f(Xl)-f(Xu)))\n",
    "        Xro.append(Xr)\n",
    "        \n",
    "        if(c1>0):\n",
    "            Eapx=(abs((((Xro[c1]-Xro[c1-1])/Xro[c1])*100)))\n",
    "            Ea.append(Eapx)\n",
    "            tabla.append([c1+1,Xl,Xu,Xr,Eapx])\n",
    "            \n",
    "        else:\n",
    "            tabla.append([c1+1,Xl,Xu,Xr,\"\"])\n",
    "        \n",
    "        if(f(Xl)*f(Xr))<0:\n",
    "            Xu=Xr\n",
    "        \n",
    "        else:\n",
    "            if(f(Xl)*f(Xr))>0:\n",
    "                Xl=Xr\n",
    "            else:\n",
    "                break\n",
    "                \n",
    "        c1+=1\n",
    "        \n",
    "    headers=[\"Iteracion\",\"Xl\",\"Xu\",\"Xr\",\"Ea\"]\n",
    "    print(tabulate(tabla,headers))\n",
    "    \n",
    "def graf():\n",
    "    \n",
    "    print(\"\")\n",
    "    print(\"\")\n",
    "    \n",
    "    x=0\n",
    "    n=0\n",
    "    \n",
    "    while n<500:\n",
    "        fo.append(f(x))\n",
    "        xo.append(x)\n",
    "        x+=0.1\n",
    "        n+=1\n",
    "    \n",
    "    pl.ylabel('f(X)')\n",
    "    pl.xlabel('X')\n",
    "   \n",
    "    pl.plot(xo,fo,color=\"green\",linewidth=2.5, linestyle=\"-\")\n",
    "   \n",
    "    pl.axis([-8,8,-100,150])\n",
    "    pl.grid(True)\n",
    "    pl.show()\n",
    "\n",
    "\n",
    "graf()\n",
    "print(\"\")\n",
    "#metodo de falsa posicion\n",
    "met_falsa_posicion(50,60)\n"
   ]
  },
  {
   "cell_type": "code",
   "execution_count": 30,
   "metadata": {
    "collapsed": false
   },
   "outputs": [
    {
     "name": "stdout",
     "output_type": "stream",
     "text": [
      "Masa\n",
      "59.849286994217486\n",
      "59.83954890151205\n",
      "59.83891997843001\n",
      "59.83887936139274\n"
     ]
    }
   ],
   "source": [
    "import math\n",
    "g,c,v,t,Xu,Xl,fun1,fun2 = 9.8,15,35,9,50.0,60.0,1.0,1.0\n",
    "\n",
    "# v = ((m*g)/c) * (1 - e**(-(c/m)*t)) \n",
    "# v = ((m*9.8)/15) * (1 - e**(-(15/m)*9))=35\n",
    "# f(m) = m * (1 - e(-135/m)) - 53.57 = 0\n",
    "\n",
    "\n",
    "def evaluar(valor):\n",
    "    fun =  valor * (1 - math.e**(-135/valor)) - 53.57\n",
    "    return fun\n",
    "\n",
    "Es,Ea,Xr = 0.001,1.0,0.0\n",
    "print (\"Masa\")\n",
    "while Ea>Es:\n",
    "    Xrant = Xr\n",
    "    Xr =  Xu-(evaluar(Xu)*(Xl-Xu)/(evaluar(Xl)-evaluar(Xu)))\n",
    "    Ea = (abs(Xr-Xrant)/Xr)*100\n",
    "    fun1 = evaluar(Xl)\n",
    "    fun2 = evaluar(Xr)\n",
    "    if (fun1*fun2)<0:\n",
    "        Xu = Xr\n",
    "    if (fun1*fun2)>0:\n",
    "        Xl = Xr\n",
    "    print (Xr)"
   ]
  },
  {
   "cell_type": "code",
   "execution_count": null,
   "metadata": {
    "collapsed": true
   },
   "outputs": [],
   "source": []
  },
  {
   "cell_type": "code",
   "execution_count": null,
   "metadata": {
    "collapsed": true
   },
   "outputs": [],
   "source": []
  }
 ],
 "metadata": {
  "kernelspec": {
   "display_name": "Python 3",
   "language": "python",
   "name": "python3"
  },
  "language_info": {
   "codemirror_mode": {
    "name": "ipython",
    "version": 3
   },
   "file_extension": ".py",
   "mimetype": "text/x-python",
   "name": "python",
   "nbconvert_exporter": "python",
   "pygments_lexer": "ipython3",
   "version": "3.5.1"
  }
 },
 "nbformat": 4,
 "nbformat_minor": 0
}
