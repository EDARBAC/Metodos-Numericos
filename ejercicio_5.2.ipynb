{
 "cells": [
  {
   "cell_type": "code",
   "execution_count": 6,
   "metadata": {
    "collapsed": false
   },
   "outputs": [
    {
     "name": "stdout",
     "output_type": "stream",
     "text": [
      "Valor Real:  0.44\n"
     ]
    },
    {
     "data": {
      "text/plain": [
       "0.9990234375"
      ]
     },
     "execution_count": 6,
     "metadata": {},
     "output_type": "execute_result"
    }
   ],
   "source": [
    "import math\n",
    "import matplotlib.pyplot as pl\n",
    "from tabulate import tabulate\n",
    "\n",
    "Ea=[]\n",
    "\n",
    "fo=[]\n",
    "xo=[]\n",
    "\n",
    "Xro=[]\n",
    "\n",
    "tabla=[]\n",
    "\n",
    "Es=0.1\n",
    "vVer=0.44\n",
    "\n",
    "def f(x):\n",
    "    \n",
    "    y=5*x**3 - 5*x**2 + 6*x - 2\n",
    "    \n",
    "    return y\n",
    "\n",
    "def met_biseccion(Xl,Xu):\n",
    "    \n",
    "    Xr=0.0\n",
    "    \n",
    "    Eapx=1\n",
    "    \n",
    "    c1=0\n",
    "    \n",
    "    while Eapx>Es:\n",
    "    \n",
    "        Xr=((Xl+Xu)/2)\n",
    "        Xro.append(Xr)\n",
    "        \n",
    "        if(c1>0):\n",
    "            Eapx=(abs((((Xro[c1]-Xro[c1-1])/Xro[c1])*100)))\n",
    "            Ea.append(Eapx)\n",
    "            tabla.append([Xl,Xu,Xr,Ea[c1-1]])\n",
    "            \n",
    "        else:\n",
    "            tabla.append([Xl,Xu,Xr,\"\"])\n",
    "            \n",
    "        if(f(Xl)*f(Xr))<0:\n",
    "            Xu=Xr\n",
    "        \n",
    "        else:\n",
    "            if(f(Xl)*f(Xr))>0:\n",
    "                Xl=Xr\n",
    "            else:\n",
    "                break\n",
    "                \n",
    "        c1+=1\n",
    "    \n",
    "    return Xr\n",
    "   \n",
    "\n",
    "def graf():\n",
    "    \n",
    "    print(\"Valor Real: \",0.44)\n",
    "    \n",
    "    \n",
    "    x=-50\n",
    "    \n",
    "    while x<500:\n",
    "        fo.append(f(x))\n",
    "        xo.append(x)\n",
    "        x+=1\n",
    "    \n",
    "    pl.ylabel('f(X)')\n",
    "    pl.xlabel('X')\n",
    "   \n",
    "    pl.plot(xo,fo,color=\"green\",linewidth=2.5, linestyle=\"-\")\n",
    "   \n",
    "    pl.axis([-10,15,-4,8])\n",
    "    pl.grid(True)\n",
    "    pl.show()\n",
    "\n",
    "graf()\n",
    "met_biseccion(0.5,1)\n",
    "    \n",
    "\n"
   ]
  },
  {
   "cell_type": "code",
   "execution_count": null,
   "metadata": {
    "collapsed": true
   },
   "outputs": [],
   "source": []
  },
  {
   "cell_type": "code",
   "execution_count": null,
   "metadata": {
    "collapsed": true
   },
   "outputs": [],
   "source": []
  }
 ],
 "metadata": {
  "kernelspec": {
   "display_name": "Python 3",
   "language": "python",
   "name": "python3"
  },
  "language_info": {
   "codemirror_mode": {
    "name": "ipython",
    "version": 3
   },
   "file_extension": ".py",
   "mimetype": "text/x-python",
   "name": "python",
   "nbconvert_exporter": "python",
   "pygments_lexer": "ipython3",
   "version": "3.5.1"
  }
 },
 "nbformat": 4,
 "nbformat_minor": 0
}
