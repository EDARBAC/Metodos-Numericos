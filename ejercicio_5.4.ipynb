{
 "cells": [
  {
   "cell_type": "code",
   "execution_count": 4,
   "metadata": {
    "collapsed": false
   },
   "outputs": [
    {
     "name": "stdout",
     "output_type": "stream",
     "text": [
      "\n",
      "Raiz menor: -0.432\n",
      "\n",
      "  Xl         Xu         Xr  Ea\n",
      "----  ---------  ---------  -------------------\n",
      "  -1   0         -0.287425\n",
      "  -1  -0.287425  -0.379449  24.251950236430492\n",
      "  -1  -0.379449  -0.405232  6.36257916392447\n",
      "  -1  -0.405232  -0.412173  1.6840378668563465\n",
      "  -1  -0.412173  -0.414022  0.4464165358928404\n",
      "  -1  -0.414022  -0.414512  0.1183810177981495\n",
      "  -1  -0.414512  -0.414642  0.03139516995007155\n"
     ]
    },
    {
     "data": {
      "text/plain": [
       "-0.4146424217052663"
      ]
     },
     "execution_count": 4,
     "metadata": {},
     "output_type": "execute_result"
    }
   ],
   "source": [
    "import math\n",
    "import matplotlib.pyplot as pl\n",
    "from tabulate import tabulate\n",
    "\n",
    "fo=[]\n",
    "xo=[]\n",
    "\n",
    "Es=0.5*10**-1\n",
    "vVo=6.4051\n",
    "\n",
    "def f(x):\n",
    "    \n",
    "    y=-12 - 21*x + 18*x**2 - 2.75*x**3\n",
    "    \n",
    "    return y\n",
    "\n",
    "def met_falsa_pos(Xl,Xu):\n",
    "    \n",
    "    tabla=[]\n",
    "    Xro=[]\n",
    "    \n",
    "    Ea=[]\n",
    "    Eapx=1\n",
    "    \n",
    "    Xr=0.0\n",
    "    \n",
    "    c1=0\n",
    "    \n",
    "    while Eapx>Es:\n",
    "    \n",
    "        Xr=Xu-(f(Xu)*(Xl-Xu)/(f(Xl)-f(Xu)))\n",
    "        #Ett=abs((vVo-Xr)/vVo)*100\n",
    "        #Et.append(Ett)\n",
    "        Xro.append(Xr)\n",
    "        \n",
    "        if(c1>0):\n",
    "            Eapx=abs((((Xro[c1]-Xro[c1-1])/Xro[c1])*100))\n",
    "            Ea.append(Eapx)\n",
    "            tabla.append([Xl,Xu,Xr,Ea[c1-1]])\n",
    "        else:\n",
    "            tabla.append([Xl,Xu,Xr,\"\"])\n",
    "            \n",
    "            \n",
    "            \n",
    "        if(f(Xl)*f(Xr))<0:\n",
    "            Xu=Xr\n",
    "        \n",
    "        else:\n",
    "            if(f(Xl)*f(Xr))>0:\n",
    "                Xl=Xr\n",
    "            else:\n",
    "                break\n",
    "                \n",
    "        c1+=1\n",
    "    \n",
    "    print(tabulate(tabla,headers=[\"Xl\",\"Xu\",\"Xr\",\"Ea\"]))\n",
    "    return Xr\n",
    "   \n",
    "\n",
    "def graf():\n",
    "    \n",
    "    print(\"\")\n",
    "    print(\"Raiz menor:\",-0.432)\n",
    "    print(\"\")\n",
    "\n",
    "    x=-50\n",
    "    n=0\n",
    "    \n",
    "    while n<1000:\n",
    "        fo.append(f(x))\n",
    "        xo.append(x)\n",
    "        x+=0.1\n",
    "        n+=1\n",
    "    \n",
    "    pl.ylabel('f(X)')\n",
    "    pl.xlabel('X')\n",
    "   \n",
    "    pl.plot(xo,fo,color=\"green\",linewidth=2.5, linestyle=\"-\")\n",
    "   \n",
    "    pl.axis([-5,15,-50,50])\n",
    "    pl.grid(True)\n",
    "    pl.show()\n",
    "\n",
    "graf()\n",
    "met_falsa_pos(-1,0)\n",
    "    "
   ]
  },
  {
   "cell_type": "code",
   "execution_count": null,
   "metadata": {
    "collapsed": true
   },
   "outputs": [],
   "source": []
  }
 ],
 "metadata": {
  "kernelspec": {
   "display_name": "Python 3",
   "language": "python",
   "name": "python3"
  },
  "language_info": {
   "codemirror_mode": {
    "name": "ipython",
    "version": 3
   },
   "file_extension": ".py",
   "mimetype": "text/x-python",
   "name": "python",
   "nbconvert_exporter": "python",
   "pygments_lexer": "ipython3",
   "version": "3.5.1"
  }
 },
 "nbformat": 4,
 "nbformat_minor": 0
}
