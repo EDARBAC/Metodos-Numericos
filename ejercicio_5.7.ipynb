{
 "cells": [
  {
   "cell_type": "code",
   "execution_count": 6,
   "metadata": {
    "collapsed": false,
    "scrolled": true
   },
   "outputs": [
    {
     "name": "stdout",
     "output_type": "stream",
     "text": [
      "\n",
      "Valor exacto:  2.6666\n",
      "\n",
      "\n",
      "  Iteracion    Xl    Xu    Xr  Ea                   Ever\n",
      "-----------  ----  ----  ----  -----------------  ------\n",
      "          1   1       3  2                        0.6666\n",
      "          2   2       3  2.5   20.0               0.1666\n",
      "          3   2.5     3  2.75  9.090909090909092  0.0834\n"
     ]
    }
   ],
   "source": [
    "import math\n",
    "import matplotlib.pyplot as pl\n",
    "from tabulate import tabulate\n",
    "\n",
    "fo=[]\n",
    "xo=[]\n",
    "\n",
    "vV=2.6666\n",
    "\n",
    "def f(x):\n",
    "    \n",
    "    y=(0.8-0.3*x)/x\n",
    "    \n",
    "    return y\n",
    "\n",
    "def met_falsa_posicion(Xl,Xu):\n",
    "    \n",
    "    Ea=[]\n",
    "    Et=[]\n",
    "    tabla=[]\n",
    "    Xro=[]\n",
    "    \n",
    "    Xr=0.0\n",
    "    \n",
    "    c1=0\n",
    "    \n",
    "    while c1<3:\n",
    "    \n",
    "            \n",
    "        Xr=((Xl+Xu)/2)\n",
    "        Xro.append(Xr)\n",
    "        Et.append(abs(vV-Xr))\n",
    "        \n",
    "        if(c1>0):\n",
    "            Eapx=(abs((((Xro[c1]-Xro[c1-1])/Xro[c1])*100)))\n",
    "            Ea.append(Eapx)\n",
    "            tabla.append([c1+1,Xl,Xu,Xr,Eapx,Et[c1]])\n",
    "            \n",
    "        else:\n",
    "            tabla.append([c1+1,Xl,Xu,Xr,\"\",Et[c1]])\n",
    "        \n",
    "        if(f(Xl)*f(Xr))<0:\n",
    "            Xu=Xr\n",
    "        \n",
    "        else:\n",
    "            if(f(Xl)*f(Xr))>0:\n",
    "                Xl=Xr\n",
    "            else:\n",
    "                break\n",
    "                \n",
    "        c1+=1\n",
    "        \n",
    "    headers=[\"Iteracion\",\"Xl\",\"Xu\",\"Xr\",\"Ea\",\"Ever\"]\n",
    "    print(tabulate(tabla,headers))\n",
    "    \n",
    "def graf():\n",
    "    \n",
    "    print(\"\")\n",
    "    print(\"Valor exacto: \",2.6666)\n",
    "    print(\"\")\n",
    "    \n",
    "    x=-30\n",
    "    n=0\n",
    "    \n",
    "    while n<500:\n",
    "        fo.append(f(x))\n",
    "        xo.append(x)\n",
    "        x+=0.1\n",
    "        n+=1\n",
    "    \n",
    "    pl.ylabel('f(X)')\n",
    "    pl.xlabel('X')\n",
    "   \n",
    "    pl.plot(xo,fo,color=\"green\",linewidth=2.5, linestyle=\"-\")\n",
    "   \n",
    "    pl.axis([-8,8,-100,150])\n",
    "    pl.grid(True)\n",
    "    pl.show()\n",
    "\n",
    "\n",
    "graf()\n",
    "print(\"\")\n",
    "#metodo de falsa posicion\n",
    "met_falsa_posicion(1,3)\n"
   ]
  },
  {
   "cell_type": "code",
   "execution_count": null,
   "metadata": {
    "collapsed": true
   },
   "outputs": [],
   "source": []
  },
  {
   "cell_type": "code",
   "execution_count": null,
   "metadata": {
    "collapsed": true
   },
   "outputs": [],
   "source": []
  }
 ],
 "metadata": {
  "kernelspec": {
   "display_name": "Python 3",
   "language": "python",
   "name": "python3"
  },
  "language_info": {
   "codemirror_mode": {
    "name": "ipython",
    "version": 3
   },
   "file_extension": ".py",
   "mimetype": "text/x-python",
   "name": "python",
   "nbconvert_exporter": "python",
   "pygments_lexer": "ipython3",
   "version": "3.5.1"
  }
 },
 "nbformat": 4,
 "nbformat_minor": 0
}
