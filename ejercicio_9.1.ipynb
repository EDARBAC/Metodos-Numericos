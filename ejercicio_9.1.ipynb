{
 "cells": [
  {
   "cell_type": "code",
   "execution_count": 8,
   "metadata": {
    "collapsed": false
   },
   "outputs": [
    {
     "name": "stdout",
     "output_type": "stream",
     "text": [
      "a[0][0] = 2\n",
      "a[0][1] = 5\n",
      "a[0][2] = 8\n",
      "b[0]= 4\n",
      "a[1][0] = 4\n",
      "a[1][1] = 7\n",
      "a[1][2] = 8\n",
      "b[1]= 9\n",
      " \n",
      "A\n",
      "[2.0, 5.0, 8.0]\n",
      "[4.0, 7.0, 8.0]\n",
      " \n",
      "3 2\n",
      "Transpuesta\n",
      "[2.0, 4.0]\n",
      "[5.0, 7.0]\n",
      "[8.0, 8.0]\n"
     ]
    }
   ],
   "source": [
    "import math\n",
    "\n",
    "a=[]\n",
    "b=[]\n",
    "\n",
    "def inicilizar_Matriz(fil,col):\n",
    "    \n",
    "  \n",
    "    mat= [None] * fil\n",
    "    \n",
    "    if(fil>0):\n",
    "        for i in range(fil):\n",
    "            mat[i] = [None] * col\n",
    "            \n",
    "    return mat\n",
    "\n",
    "def llenar_Matriz(fil,col):\n",
    "    \n",
    "    global a\n",
    "    global b\n",
    "    \n",
    "    a,b=inicilizar_Matriz(fil,col),inicilizar_Matriz(fil,0)\n",
    "    \n",
    "    i,j=0,0\n",
    "    strg=\"\"\n",
    "    \n",
    "    while i<len(a):\n",
    "        while j<(len(a[i])):\n",
    "            strg+=\"a[\"+str(i)+\"][\"+str(j)+\"] = \"\n",
    "            a[i][j]=float(input(strg))\n",
    "            j+=1\n",
    "            strg=\"\"\n",
    "            \n",
    "        b[i]=float(input(\"b[\"+str(i)+\"]= \"))\n",
    "        \n",
    "        j=0\n",
    "        i+=1\n",
    "    \n",
    "    i=0\n",
    "    \n",
    "    print(\" \")\n",
    "    print(\"A\",)\n",
    "    while i<len(a):\n",
    "        print(a[i])\n",
    "        i+=1\n",
    "    print(\" \")\n",
    "    \n",
    "def transpuesta(a):\n",
    "    \n",
    "    d=inicilizar_Matriz(len(a[0]),len(a))\n",
    "\n",
    "    i,j=0,0\n",
    "    \n",
    "    while i<len(a):\n",
    "        while j<len(a[i]):\n",
    "            d[j][i]=a[i][j]\n",
    "            j+=1\n",
    "        j=0\n",
    "        i+=1\n",
    "     \n",
    "    i=0\n",
    "    print(\"Transpuesta\",)\n",
    "    while i<len(d):\n",
    "        print(d[i])\n",
    "        i+=1\n",
    "   \n",
    "llenar_Matriz(2,3)\n",
    "transpuesta(a)"
   ]
  },
  {
   "cell_type": "markdown",
   "metadata": {
    "collapsed": true
   },
   "source": [
    "9.1\n",
    "a) Escriba en forma matricial el conjunto siguiente de ecuaciones:\n",
    "50 = 5x3 + 2x2\n",
    "10 – x1 = x3\n",
    "3x2 + 8x1 = 20\n",
    "b) Escriba la transpuesta de la matriz de coeficientes\n",
    "\n",
    "Solucion\n",
    "\n",
    "a)\n",
    "[2.0, 5.0, 8.0]\n",
    "[4.0, 7.0, 8.0]\n",
    "b)\n",
    "[2.0, 4.0]\n",
    "[5.0, 7.0]\n",
    "[8.0, 8.0]"
   ]
  }
 ],
 "metadata": {
  "kernelspec": {
   "display_name": "Python 3",
   "language": "python",
   "name": "python3"
  },
  "language_info": {
   "codemirror_mode": {
    "name": "ipython",
    "version": 3
   },
   "file_extension": ".py",
   "mimetype": "text/x-python",
   "name": "python",
   "nbconvert_exporter": "python",
   "pygments_lexer": "ipython3",
   "version": "3.5.1"
  }
 },
 "nbformat": 4,
 "nbformat_minor": 0
}
