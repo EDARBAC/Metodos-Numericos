{
 "cells": [
  {
   "cell_type": "code",
   "execution_count": 1,
   "metadata": {
    "collapsed": false,
    "scrolled": true
   },
   "outputs": [
    {
     "name": "stdout",
     "output_type": "stream",
     "text": [
      "x1= 4\n",
      "x2= 5.0\n",
      "(4*x1)-(8*x2) = -24.0\n",
      "x1+6*x2 = 34.0\n"
     ]
    }
   ],
   "source": [
    "import math\n",
    "import matplotlib.pyplot as pl\n",
    "\n",
    "fo,f1,xo=[],[],[]\n",
    "x1,x2=0,0\n",
    "\n",
    "def func1_X1(x): \n",
    "    y=(2*x -6)\n",
    "    return y\n",
    "\n",
    "def func1_X2(x): \n",
    "    y=(4*x +24)/8\n",
    "    return y\n",
    "\n",
    "def func2_X1(x): \n",
    "    y=(34 -6*x)\n",
    "    return y\n",
    "\n",
    "def func2_X2(x): \n",
    "    y=(34-x)/6\n",
    "    return y\n",
    "\n",
    "def ecua1(x1,x2):\n",
    "    \n",
    "    y=(4*x1)-(8*x2)\n",
    "    return y\n",
    "\n",
    "def ecua2(x1,x2):\n",
    "    \n",
    "    y=x1+6*x2\n",
    "    return y\n",
    "\n",
    "\n",
    "def metodo_grafico():\n",
    "    \n",
    "    global x1,x2\n",
    "    n,i=0,0\n",
    "    \n",
    "    while(n<100):\n",
    "        \n",
    "        if(func1_X1(n)==func2_X1(n)):\n",
    "\n",
    "            x1=func1_X1(n)\n",
    "            \n",
    "        if(func1_X2(n)==func2_X2(n)):\n",
    "            \n",
    "            x2=func2_X2(n)\n",
    "            \n",
    "        fo.append(func1_X1(n))\n",
    "        f1.append(func2_X1(n))\n",
    "        xo.append(n)\n",
    "        n+=1\n",
    "        i+=1\n",
    "     \n",
    "    print(\"x1=\",x1)\n",
    "    print(\"x2=\",x2)\n",
    "        \n",
    "def graf():\n",
    "    \n",
    "    pl.ylabel('X1')\n",
    "    pl.xlabel('X2')\n",
    "    \n",
    "    pl.plot(x2,x1,\"ro\",color=\"black\",linewidth=20)\n",
    "    pl.plot(xo,fo,color=\"green\",label=\"Primera Ecuacion\",linewidth=2.5, linestyle=\"-\")\n",
    "    pl.plot(xo,f1,color=\"pink\",label=\"Segunda Ecuacion\",linewidth=2.5, linestyle=\"-\")\n",
    "   \n",
    "    pl.axis([0,10,0,10])\n",
    "    pl.grid(True)\n",
    "    pl.show()\n",
    "\n",
    "\n",
    "metodo_grafico()\n",
    "print(\"(4*x1)-(8*x2) =\",ecua1(x1,x2))\n",
    "print(\"x1+6*x2 =\",ecua2(x1,x2))\n",
    "graf()\n"
   ]
  },
  {
   "cell_type": "code",
   "execution_count": null,
   "metadata": {
    "collapsed": true
   },
   "outputs": [],
   "source": []
  }
 ],
 "metadata": {
  "kernelspec": {
   "display_name": "Python 3",
   "language": "python",
   "name": "python3"
  },
  "language_info": {
   "codemirror_mode": {
    "name": "ipython",
    "version": 3
   },
   "file_extension": ".py",
   "mimetype": "text/x-python",
   "name": "python",
   "nbconvert_exporter": "python",
   "pygments_lexer": "ipython3",
   "version": "3.5.1"
  }
 },
 "nbformat": 4,
 "nbformat_minor": 0
}
