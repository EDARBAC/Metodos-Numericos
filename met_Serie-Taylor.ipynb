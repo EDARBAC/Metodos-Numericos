{
 "cells": [
  {
   "cell_type": "code",
   "execution_count": 4,
   "metadata": {
    "collapsed": false
   },
   "outputs": [
    {
     "name": "stdout",
     "output_type": "stream",
     "text": [
      "  Orden    f(Xi+1)\n",
      "-------  ---------\n",
      "      0       1.2\n",
      "      1       0.95\n",
      "      2       0.45\n",
      "      3       0.3\n",
      "      4       0.2\n"
     ]
    }
   ],
   "source": [
    "import math\n",
    "from tabulate import tabulate\n",
    "\n",
    "f,fo,tabla=[],[],[]\n",
    "\n",
    "h=0.5\n",
    "\n",
    "def met_ser_taylor():\n",
    "    \n",
    "    y=0\n",
    "    x=0.0\n",
    "    \n",
    "    cont=0\n",
    "    ex=0\n",
    "    \n",
    "    fo.append(-0.1*x**4-0.15*x**3-0.5*x**2-0.25*x+1.2)\n",
    "    fo.append(-0.4*x**3-0.45*x**2-x-0.25)\n",
    "    fo.append(-1.2*x**2-0.9*x-1)\n",
    "    fo.append(-2.4*x-0.9)\n",
    "    fo.append(-2.4)\n",
    "    \n",
    "    while cont<len(fo):\n",
    "\n",
    "        y+=(fo[cont]/math.factorial(cont))*((2*h)**ex)\n",
    "        f.append(y)\n",
    "        \n",
    "        tabla.append([cont,y])\n",
    "        \n",
    "        cont+=1\n",
    "        ex+=2\n",
    "    \n",
    "   \n",
    "    print(tabulate(tabla, headers=[\"Orden\",\"f(Xi+1)\"]))\n",
    "    \n",
    "\n",
    "met_ser_taylor()\n",
    "    \n"
   ]
  },
  {
   "cell_type": "code",
   "execution_count": null,
   "metadata": {
    "collapsed": true
   },
   "outputs": [],
   "source": []
  }
 ],
 "metadata": {
  "kernelspec": {
   "display_name": "Python 3",
   "language": "python",
   "name": "python3"
  },
  "language_info": {
   "codemirror_mode": {
    "name": "ipython",
    "version": 3
   },
   "file_extension": ".py",
   "mimetype": "text/x-python",
   "name": "python",
   "nbconvert_exporter": "python",
   "pygments_lexer": "ipython3",
   "version": "3.5.1"
  }
 },
 "nbformat": 4,
 "nbformat_minor": 0
}
