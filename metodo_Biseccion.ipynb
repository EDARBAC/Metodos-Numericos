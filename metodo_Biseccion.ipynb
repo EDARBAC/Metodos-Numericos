{
 "cells": [
  {
   "cell_type": "code",
   "execution_count": 1,
   "metadata": {
    "collapsed": false,
    "scrolled": true
   },
   "outputs": [
    {
     "name": "stdout",
     "output_type": "stream",
     "text": [
      "14.780203831661057\n"
     ]
    }
   ],
   "source": [
    "import math\n",
    "import matplotlib.pyplot as pl\n",
    "\n",
    "g=9.8\n",
    "m=68.1\n",
    "t=10\n",
    "v=40\n",
    "\n",
    "vFunc=[]\n",
    "vC=[]\n",
    "\n",
    "def f(c):\n",
    "    \n",
    "    y=((g*m)/c)*(1-math.exp(-(c/m)*t))-v\n",
    "    return y\n",
    "    \n",
    "def encontrarRaiz(Xl,Xu):\n",
    "    \n",
    "    Xs=Xu\n",
    "    Xi=Xl\n",
    "    Xr=0\n",
    "    \n",
    "    c1=0 \n",
    "    \n",
    "    while True :\n",
    "        \n",
    "        Xr=((Xi+Xs)/2)\n",
    "        #print(Xr, Xi, Xs, f(Xi), f(Xr))\n",
    "        \n",
    "        if(f(Xi)*f(Xr))<0:\n",
    "            Xs=Xr\n",
    "        \n",
    "        else:\n",
    "            if(f(Xi)*f(Xr))>0:\n",
    "                Xi=Xr\n",
    "            else:\n",
    "                break\n",
    "        c1+=1\n",
    "     \n",
    "    return Xr\n",
    "\n",
    "\n",
    "\n",
    "def dbGrf(n):\n",
    "    \n",
    "    c1=4\n",
    "    \n",
    "    while(c1<n):\n",
    "        \n",
    "        y=((g*m)/c1)*(1-math.exp(-(c1/m)*t))-v\n",
    "        vFunc.append(y)\n",
    "        vC.append(c1)\n",
    "        c1+=4\n",
    "    \n",
    "\n",
    "def graf():\n",
    "    \n",
    "    dbGrf(30)\n",
    "    \n",
    "    pl.ylabel('f(c) ')\n",
    "    pl.xlabel('C')\n",
    "   \n",
    "    pl.plot(encontrarRaiz(12,16),0,\"ro\")\n",
    "    pl.plot(vC,vFunc,color=\"green\",linewidth=2.5, linestyle=\"-\")\n",
    "    pl.grid(True)\n",
    "    pl.axis([0,20,-10,40])\n",
    "    pl.show() \n",
    "    print( encontrarRaiz(12,16))\n",
    "\n",
    "graf()"
   ]
  },
  {
   "cell_type": "code",
   "execution_count": null,
   "metadata": {
    "collapsed": true
   },
   "outputs": [],
   "source": []
  },
  {
   "cell_type": "code",
   "execution_count": null,
   "metadata": {
    "collapsed": true
   },
   "outputs": [],
   "source": []
  }
 ],
 "metadata": {
  "kernelspec": {
   "display_name": "Python 3",
   "language": "python",
   "name": "python3"
  },
  "language_info": {
   "codemirror_mode": {
    "name": "ipython",
    "version": 3
   },
   "file_extension": ".py",
   "mimetype": "text/x-python",
   "name": "python",
   "nbconvert_exporter": "python",
   "pygments_lexer": "ipython3",
   "version": "3.5.1"
  }
 },
 "nbformat": 4,
 "nbformat_minor": 0
}
